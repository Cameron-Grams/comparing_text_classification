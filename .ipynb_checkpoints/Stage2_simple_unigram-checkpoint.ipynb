{
 "cells": [
  {
   "cell_type": "markdown",
   "id": "05027e48",
   "metadata": {},
   "source": [
    "# Stage One\n",
    "1. __Model 1:__ Unigram probability from single training corpus"
   ]
  },
  {
   "cell_type": "code",
   "execution_count": 1,
   "id": "3c9f567b",
   "metadata": {},
   "outputs": [],
   "source": [
    "import numpy as np\n",
    "import pandas as pd\n",
    "import matplotlib.pyplot as plt\n",
    "\n",
    "from collections import defaultdict\n",
    "from nltk.tokenize import word_tokenize\n",
    "import textstat\n",
    "from sklearn.metrics import accuracy_score"
   ]
  },
  {
   "cell_type": "code",
   "execution_count": 2,
   "id": "f026775f",
   "metadata": {},
   "outputs": [
    {
     "ename": "ModuleNotFoundError",
     "evalue": "No module named 'produce_df'",
     "output_type": "error",
     "traceback": [
      "\u001b[0;31m---------------------------------------------------------------------------\u001b[0m",
      "\u001b[0;31mModuleNotFoundError\u001b[0m                       Traceback (most recent call last)",
      "\u001b[0;32m<ipython-input-2-04297e836582>\u001b[0m in \u001b[0;36m<module>\u001b[0;34m\u001b[0m\n\u001b[0;32m----> 1\u001b[0;31m \u001b[0;32mfrom\u001b[0m \u001b[0mproduce_df\u001b[0m \u001b[0;32mimport\u001b[0m \u001b[0mproduce_dataframe\u001b[0m \u001b[0;32mas\u001b[0m \u001b[0mpro_df\u001b[0m\u001b[0;34m\u001b[0m\u001b[0;34m\u001b[0m\u001b[0m\n\u001b[0m",
      "\u001b[0;31mModuleNotFoundError\u001b[0m: No module named 'produce_df'"
     ]
    }
   ],
   "source": [
    "from produce_df import produce_dataframe as pro_df"
   ]
  },
  {
   "cell_type": "code",
   "execution_count": null,
   "id": "724a358e",
   "metadata": {},
   "outputs": [],
   "source": [
    "training_path = './data/WikiLarge_Train.csv'"
   ]
  },
  {
   "cell_type": "code",
   "execution_count": null,
   "id": "2811595c",
   "metadata": {},
   "outputs": [],
   "source": [
    "%%time\n",
    "main_df = pro_df(training_path)"
   ]
  },
  {
   "cell_type": "code",
   "execution_count": null,
   "id": "ef18f087",
   "metadata": {},
   "outputs": [],
   "source": [
    "main_df.shape"
   ]
  },
  {
   "cell_type": "code",
   "execution_count": null,
   "id": "9d761ba7",
   "metadata": {},
   "outputs": [],
   "source": [
    "main_df.head()"
   ]
  },
  {
   "cell_type": "code",
   "execution_count": null,
   "id": "83f3305f",
   "metadata": {},
   "outputs": [],
   "source": [
    "%%time\n",
    "# sentences that DO NOT need to be simplified; label = 0\n",
    "good_df = main_df[ main_df['label'] == 0]\n",
    "good_df.shape"
   ]
  },
  {
   "cell_type": "code",
   "execution_count": null,
   "id": "60b354a1",
   "metadata": {},
   "outputs": [],
   "source": [
    "# sentences that need to be simplified; label = 1\n",
    "need_simp_ones_df = main_df[ main_df['label'] == 1]\n",
    "need_simp_ones_df.shape"
   ]
  },
  {
   "cell_type": "markdown",
   "id": "7823e79f",
   "metadata": {},
   "source": [
    "## Model 1: Simple Unigram model"
   ]
  },
  {
   "cell_type": "code",
   "execution_count": null,
   "id": "908e78db",
   "metadata": {},
   "outputs": [],
   "source": [
    "# assumptions: stop words left in, distribution will contribute to the need for simplification"
   ]
  },
  {
   "cell_type": "code",
   "execution_count": null,
   "id": "796db836",
   "metadata": {},
   "outputs": [],
   "source": [
    "def build_counts(token_list, d_dict):\n",
    "    for token in token_list:\n",
    "         d_dict[token] += 1\n",
    "    return d_dict"
   ]
  },
  {
   "cell_type": "markdown",
   "id": "0544b4c7",
   "metadata": {},
   "source": [
    "### Class 0: No Simplification needed\n",
    "Word distribution and probability from the class of sentences that do not need simplification"
   ]
  },
  {
   "cell_type": "code",
   "execution_count": null,
   "id": "b85d9065",
   "metadata": {},
   "outputs": [],
   "source": [
    "%%time\n",
    "# class zero are the terms in the sentences that do not need simplification\n",
    "\n",
    "# number of times each term appears in Class 0\n",
    "class_zero_count = defaultdict(int)\n",
    "good_df['tokens'].apply(lambda x: build_counts(x, class_zero_count))"
   ]
  },
  {
   "cell_type": "code",
   "execution_count": null,
   "id": "cae00421",
   "metadata": {},
   "outputs": [],
   "source": [
    "len(class_zero_count)"
   ]
  },
  {
   "cell_type": "code",
   "execution_count": null,
   "id": "967762dc",
   "metadata": {},
   "outputs": [],
   "source": [
    "# total number of terms in Class 0\n",
    "class_0_total_terms = sum(class_zero_count.values())\n",
    "class_0_total_terms"
   ]
  },
  {
   "cell_type": "code",
   "execution_count": null,
   "id": "aad7c71d",
   "metadata": {},
   "outputs": [],
   "source": [
    "%%time\n",
    "# log probability of terms in Class 0\n",
    "class_0_log_prob_terms = {k:np.log(v/class_0_total_terms) for k, v in class_zero_count.items()}"
   ]
  },
  {
   "cell_type": "code",
   "execution_count": null,
   "id": "73c9d4a2",
   "metadata": {},
   "outputs": [],
   "source": [
    "# class_0_log_prob_terms"
   ]
  },
  {
   "cell_type": "markdown",
   "id": "6b625472",
   "metadata": {},
   "source": [
    "### Class 1: Needs Simplification"
   ]
  },
  {
   "cell_type": "code",
   "execution_count": null,
   "id": "a51ee86d",
   "metadata": {},
   "outputs": [],
   "source": [
    "%%time\n",
    "# class 1 are the term frequency for the sentences that do need simplification\n",
    "\n",
    "# number of times each term appears in Class 1\n",
    "class_one_count = defaultdict(int)\n",
    "need_simp_ones_df['tokens'].apply(lambda x: build_counts(x, class_one_count))"
   ]
  },
  {
   "cell_type": "code",
   "execution_count": null,
   "id": "6902145e",
   "metadata": {},
   "outputs": [],
   "source": [
    "len(class_one_count)"
   ]
  },
  {
   "cell_type": "code",
   "execution_count": null,
   "id": "8a0283f3",
   "metadata": {},
   "outputs": [],
   "source": [
    "# total number of terms in Class 1\n",
    "class_1_total_terms = sum(class_one_count.values())\n",
    "class_1_total_terms"
   ]
  },
  {
   "cell_type": "code",
   "execution_count": null,
   "id": "09e213d3",
   "metadata": {},
   "outputs": [],
   "source": [
    "%%time\n",
    "# log probability of the terms in the Class 1 distribution\n",
    "class_1_log_prob_terms = {k:np.log(v/class_1_total_terms) for k, v in class_one_count.items()}"
   ]
  },
  {
   "cell_type": "code",
   "execution_count": null,
   "id": "7f46bab2",
   "metadata": {},
   "outputs": [],
   "source": [
    "# class_1_log_prob_terms"
   ]
  },
  {
   "cell_type": "markdown",
   "id": "0c57dfc3",
   "metadata": {},
   "source": [
    "### Simple Unigram probability model"
   ]
  },
  {
   "cell_type": "code",
   "execution_count": null,
   "id": "06f06246",
   "metadata": {},
   "outputs": [],
   "source": [
    "def probability_prediction(token_list, c_1p = class_1_log_prob_terms, c_zp = class_0_log_prob_terms):\n",
    "    # predicted class is based on which class has the higher probability for each sentence\n",
    "    # probabilities are negative numbers since they are on the log scale --> higher number = greater probability\n",
    "\n",
    "    # class 0, no need for simplification likelihood:\n",
    "    class_0_prob = 0\n",
    "\n",
    "    # class 1, need simplification likelihood:\n",
    "    class_1_prob = 0\n",
    "  \n",
    "    for token in token_list:\n",
    "        try:\n",
    "            class_0_prob += class_0_log_prob_terms[token]\n",
    "        except:\n",
    "            class_0_prob += 0\n",
    "\n",
    "        try:\n",
    "            class_1_prob += class_1_log_prob_terms[token]\n",
    "        except: \n",
    "            class_1_prob += 0\n",
    "\n",
    "    predicted_class = 1 if class_1_prob > class_0_prob else 0\n",
    "\n",
    "    return predicted_class"
   ]
  },
  {
   "cell_type": "code",
   "execution_count": null,
   "id": "e8121280",
   "metadata": {},
   "outputs": [],
   "source": [
    "%%time\n",
    "main_df['predicted'] = main_df.apply(lambda x: probability_prediction(x['tokens']), axis = 1)"
   ]
  },
  {
   "cell_type": "code",
   "execution_count": null,
   "id": "1c5ecd66",
   "metadata": {},
   "outputs": [],
   "source": [
    "main_df.head()"
   ]
  },
  {
   "cell_type": "code",
   "execution_count": null,
   "id": "b570f3cf",
   "metadata": {},
   "outputs": [],
   "source": [
    "accuracy_score(main_df['label'], main_df['predicted'])"
   ]
  },
  {
   "cell_type": "code",
   "execution_count": null,
   "id": "6f74bbfd",
   "metadata": {},
   "outputs": [],
   "source": []
  }
 ],
 "metadata": {
  "kernelspec": {
   "display_name": "Python 3",
   "language": "python",
   "name": "python3"
  },
  "language_info": {
   "codemirror_mode": {
    "name": "ipython",
    "version": 3
   },
   "file_extension": ".py",
   "mimetype": "text/x-python",
   "name": "python",
   "nbconvert_exporter": "python",
   "pygments_lexer": "ipython3",
   "version": "3.8.8"
  }
 },
 "nbformat": 4,
 "nbformat_minor": 5
}
