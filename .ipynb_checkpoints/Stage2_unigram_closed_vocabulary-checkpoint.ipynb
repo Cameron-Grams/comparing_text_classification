{
 "cells": [
  {
   "cell_type": "markdown",
   "id": "05027e48",
   "metadata": {},
   "source": [
    "# Stage One: Closed Vocabulary\n",
    "1. __Model 1:__ Closed Vocabulary Unigram probability from single training corpus: thresholds"
   ]
  },
  {
   "cell_type": "code",
   "execution_count": 1,
   "id": "3c9f567b",
   "metadata": {},
   "outputs": [],
   "source": [
    "import numpy as np\n",
    "import pandas as pd\n",
    "import matplotlib.pyplot as plt\n",
    "\n",
    "from collections import defaultdict\n",
    "from nltk.tokenize import word_tokenize\n",
    "import textstat\n",
    "from sklearn.metrics import accuracy_score"
   ]
  },
  {
   "cell_type": "code",
   "execution_count": 2,
   "id": "f026775f",
   "metadata": {},
   "outputs": [],
   "source": [
    "import utilities as ut"
   ]
  },
  {
   "cell_type": "code",
   "execution_count": 3,
   "id": "724a358e",
   "metadata": {},
   "outputs": [],
   "source": [
    "training_path = './data/WikiLarge_Train.csv'"
   ]
  },
  {
   "cell_type": "code",
   "execution_count": null,
   "id": "2811595c",
   "metadata": {},
   "outputs": [],
   "source": [
    "%%time\n",
    "main_df = ut.produce_dataframe(training_path)"
   ]
  },
  {
   "cell_type": "code",
   "execution_count": null,
   "id": "ef18f087",
   "metadata": {},
   "outputs": [],
   "source": [
    "main_df.shape"
   ]
  },
  {
   "cell_type": "code",
   "execution_count": null,
   "id": "9d761ba7",
   "metadata": {},
   "outputs": [],
   "source": [
    "main_df.head()"
   ]
  },
  {
   "cell_type": "markdown",
   "id": "3b9baa48",
   "metadata": {},
   "source": [
    "### Produce Closed Vocabulary"
   ]
  },
  {
   "cell_type": "code",
   "execution_count": null,
   "id": "4d1b689e",
   "metadata": {},
   "outputs": [],
   "source": [
    "threshold = 11"
   ]
  },
  {
   "cell_type": "code",
   "execution_count": null,
   "id": "9ba4b700",
   "metadata": {},
   "outputs": [],
   "source": [
    "def build_counts(token_list, d_dict):\n",
    "    for token in token_list:\n",
    "         d_dict[token] += 1\n",
    "    return d_dict"
   ]
  },
  {
   "cell_type": "code",
   "execution_count": null,
   "id": "15092294",
   "metadata": {},
   "outputs": [],
   "source": [
    "total_word_counts = defaultdict(int)"
   ]
  },
  {
   "cell_type": "code",
   "execution_count": null,
   "id": "59c935f9",
   "metadata": {},
   "outputs": [],
   "source": [
    "main_df['tokens'].apply(lambda x: build_counts(x, total_word_counts))"
   ]
  },
  {
   "cell_type": "code",
   "execution_count": null,
   "id": "c3c75231",
   "metadata": {},
   "outputs": [],
   "source": [
    "# replace low frequency words with '<unk>'\n",
    "# input is the list of tokens from the original sentence tokens\n",
    "replace_low_f = lambda x: [t if total_word_counts[t] >= threshold else '<unk>' for t in x]"
   ]
  },
  {
   "cell_type": "code",
   "execution_count": null,
   "id": "342ca8c8",
   "metadata": {},
   "outputs": [],
   "source": [
    "main_df['closed_tokens'] = main_df['tokens'].apply(lambda x: replace_low_f(x))"
   ]
  },
  {
   "cell_type": "code",
   "execution_count": null,
   "id": "5f5c5bcb",
   "metadata": {},
   "outputs": [],
   "source": [
    "main_df.head()"
   ]
  },
  {
   "cell_type": "code",
   "execution_count": null,
   "id": "226e6526",
   "metadata": {},
   "outputs": [],
   "source": []
  },
  {
   "cell_type": "code",
   "execution_count": null,
   "id": "e1fcb4f0",
   "metadata": {},
   "outputs": [],
   "source": []
  },
  {
   "cell_type": "code",
   "execution_count": null,
   "id": "83f3305f",
   "metadata": {},
   "outputs": [],
   "source": [
    "%%time\n",
    "# sentences that DO NOT need to be simplified; label = 0\n",
    "good_df = main_df[ main_df['label'] == 0]\n",
    "good_df.shape"
   ]
  },
  {
   "cell_type": "code",
   "execution_count": null,
   "id": "60b354a1",
   "metadata": {},
   "outputs": [],
   "source": [
    "# sentences that need to be simplified; label = 1\n",
    "need_simp_ones_df = main_df[ main_df['label'] == 1]\n",
    "need_simp_ones_df.shape"
   ]
  },
  {
   "cell_type": "markdown",
   "id": "7823e79f",
   "metadata": {},
   "source": [
    "## Model 1: Closed Vocabulary Unigram model"
   ]
  },
  {
   "cell_type": "code",
   "execution_count": null,
   "id": "908e78db",
   "metadata": {},
   "outputs": [],
   "source": [
    "# assumptions: differences in the distributions will remain if low frequency words are identified \n",
    "# assumptions: stop words left in, distribution will contribute to the need for simplification"
   ]
  },
  {
   "cell_type": "markdown",
   "id": "0544b4c7",
   "metadata": {},
   "source": [
    "### Class 0: No Simplification needed\n",
    "Word distribution and probability from the class of sentences that do not need simplification"
   ]
  },
  {
   "cell_type": "code",
   "execution_count": null,
   "id": "b85d9065",
   "metadata": {},
   "outputs": [],
   "source": [
    "%%time\n",
    "# class zero are the terms in the sentences that do not need simplification\n",
    "\n",
    "# number of times each term appears in Class 0\n",
    "class_zero_count = defaultdict(int)\n",
    "good_df['closed_tokens'].apply(lambda x: build_counts(x, class_zero_count))"
   ]
  },
  {
   "cell_type": "code",
   "execution_count": null,
   "id": "cae00421",
   "metadata": {},
   "outputs": [],
   "source": [
    "len(class_zero_count)"
   ]
  },
  {
   "cell_type": "code",
   "execution_count": null,
   "id": "967762dc",
   "metadata": {},
   "outputs": [],
   "source": [
    "# total number of terms in Class 0\n",
    "class_0_total_terms = sum(class_zero_count.values())\n",
    "class_0_total_terms"
   ]
  },
  {
   "cell_type": "code",
   "execution_count": null,
   "id": "aad7c71d",
   "metadata": {},
   "outputs": [],
   "source": [
    "%%time\n",
    "# log probability of terms in Class 0\n",
    "class_0_log_prob_terms = {k:np.log(v/class_0_total_terms) for k, v in class_zero_count.items()}"
   ]
  },
  {
   "cell_type": "code",
   "execution_count": null,
   "id": "73c9d4a2",
   "metadata": {},
   "outputs": [],
   "source": [
    "# class_0_log_prob_terms"
   ]
  },
  {
   "cell_type": "markdown",
   "id": "6b625472",
   "metadata": {},
   "source": [
    "### Class 1: Needs Simplification"
   ]
  },
  {
   "cell_type": "code",
   "execution_count": null,
   "id": "a51ee86d",
   "metadata": {},
   "outputs": [],
   "source": [
    "%%time\n",
    "# class 1 are the term frequency for the sentences that do need simplification\n",
    "\n",
    "# number of times each term appears in Class 1\n",
    "class_one_count = defaultdict(int)\n",
    "need_simp_ones_df['closed_tokens'].apply(lambda x: build_counts(x, class_one_count))"
   ]
  },
  {
   "cell_type": "code",
   "execution_count": null,
   "id": "6902145e",
   "metadata": {},
   "outputs": [],
   "source": [
    "len(class_one_count)"
   ]
  },
  {
   "cell_type": "code",
   "execution_count": null,
   "id": "8a0283f3",
   "metadata": {},
   "outputs": [],
   "source": [
    "# total number of terms in Class 1\n",
    "class_1_total_terms = sum(class_one_count.values())\n",
    "class_1_total_terms"
   ]
  },
  {
   "cell_type": "code",
   "execution_count": null,
   "id": "09e213d3",
   "metadata": {},
   "outputs": [],
   "source": [
    "%%time\n",
    "# log probability of the terms in the Class 1 distribution\n",
    "class_1_log_prob_terms = {k:np.log(v/class_1_total_terms) for k, v in class_one_count.items()}"
   ]
  },
  {
   "cell_type": "code",
   "execution_count": null,
   "id": "7f46bab2",
   "metadata": {},
   "outputs": [],
   "source": [
    "# class_1_log_prob_terms"
   ]
  },
  {
   "cell_type": "markdown",
   "id": "0c57dfc3",
   "metadata": {},
   "source": [
    "### Closed Vocabulary Unigram probability model"
   ]
  },
  {
   "cell_type": "code",
   "execution_count": null,
   "id": "06f06246",
   "metadata": {},
   "outputs": [],
   "source": [
    "def probability_prediction(token_list, c_1p = class_1_log_prob_terms, c_zp = class_0_log_prob_terms):\n",
    "    # probabilities are negative numbers since they are on the log scale --> higher number = greater probability\n",
    "\n",
    "    # class 0, no need for simplification likelihood:\n",
    "    class_0_prob = 0\n",
    "\n",
    "    # class 1, need simplification likelihood:\n",
    "    class_1_prob = 0\n",
    "  \n",
    "    for token in token_list:\n",
    "        try:\n",
    "            class_0_prob += class_0_log_prob_terms[token]\n",
    "        except:\n",
    "            class_0_prob += 0\n",
    "\n",
    "        try:\n",
    "            class_1_prob += class_1_log_prob_terms[token]\n",
    "        except: \n",
    "            class_1_prob += 0\n",
    "\n",
    "    predicted_class = 1 if class_1_prob > class_0_prob else 0\n",
    "\n",
    "    return predicted_class"
   ]
  },
  {
   "cell_type": "code",
   "execution_count": null,
   "id": "e8121280",
   "metadata": {},
   "outputs": [],
   "source": [
    "%%time\n",
    "main_df['predicted'] = main_df.apply(lambda x: probability_prediction(x['tokens']), axis = 1)"
   ]
  },
  {
   "cell_type": "code",
   "execution_count": null,
   "id": "1c5ecd66",
   "metadata": {},
   "outputs": [],
   "source": [
    "# main_df.head()"
   ]
  },
  {
   "cell_type": "code",
   "execution_count": null,
   "id": "b570f3cf",
   "metadata": {},
   "outputs": [],
   "source": [
    "accuracy_score(main_df['label'], main_df['predicted'])"
   ]
  },
  {
   "cell_type": "code",
   "execution_count": null,
   "id": "6f74bbfd",
   "metadata": {},
   "outputs": [],
   "source": [
    "# threshold 15 = 0.68106476504914\n",
    "# threshold 13 = 0.6814894617628993\n",
    "# threshold 12 = 0.6816214296683046\n",
    "# threshold 11 = 0.6817749923218673 ***\n",
    "# threshold 10 = 0.681525453009828"
   ]
  },
  {
   "cell_type": "code",
   "execution_count": null,
   "id": "8f99c574",
   "metadata": {},
   "outputs": [],
   "source": []
  }
 ],
 "metadata": {
  "kernelspec": {
   "display_name": "Python 3",
   "language": "python",
   "name": "python3"
  },
  "language_info": {
   "codemirror_mode": {
    "name": "ipython",
    "version": 3
   },
   "file_extension": ".py",
   "mimetype": "text/x-python",
   "name": "python",
   "nbconvert_exporter": "python",
   "pygments_lexer": "ipython3",
   "version": "3.8.8"
  }
 },
 "nbformat": 4,
 "nbformat_minor": 5
}
