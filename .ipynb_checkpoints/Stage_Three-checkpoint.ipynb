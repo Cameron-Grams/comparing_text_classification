{
 "cells": [
  {
   "cell_type": "markdown",
   "id": "0d6b88c7",
   "metadata": {},
   "source": [
    "# Stage Three: Unsupervised Techniques"
   ]
  },
  {
   "cell_type": "code",
   "execution_count": 1,
   "id": "434375cc",
   "metadata": {},
   "outputs": [],
   "source": [
    "import numpy as np\n",
    "import pandas as pd\n",
    "import matplotlib.pyplot as plt\n",
    "from matplotlib.colors import ListedColormap\n",
    "from nltk.tokenize import word_tokenize\n",
    "import textstat"
   ]
  },
  {
   "cell_type": "code",
   "execution_count": 2,
   "id": "dbabb3dd",
   "metadata": {},
   "outputs": [],
   "source": [
    "from sklearn.model_selection import train_test_split\n",
    "from sklearn.decomposition import PCA\n",
    "from sklearn.neighbors import KNeighborsClassifier \n",
    "from sklearn.cluster import KMeans\n",
    "from sklearn.metrics import accuracy_score\n",
    "from sklearn.pipeline import make_pipeline\n",
    "from sklearn.preprocessing import StandardScaler"
   ]
  },
  {
   "cell_type": "code",
   "execution_count": 3,
   "id": "52dba068",
   "metadata": {},
   "outputs": [],
   "source": [
    "import utilities as ut\n"
   ]
  },
  {
   "cell_type": "code",
   "execution_count": 4,
   "id": "1fb0d225",
   "metadata": {},
   "outputs": [],
   "source": [
    "training_path = '../data/WikiLarge_Train.csv'"
   ]
  },
  {
   "cell_type": "code",
   "execution_count": 5,
   "id": "d145e3ba",
   "metadata": {},
   "outputs": [
    {
     "name": "stdout",
     "output_type": "stream",
     "text": [
      "CPU times: user 55.4 s, sys: 436 ms, total: 55.9 s\n",
      "Wall time: 55.9 s\n"
     ]
    },
    {
     "data": {
      "text/html": [
       "<div>\n",
       "<style scoped>\n",
       "    .dataframe tbody tr th:only-of-type {\n",
       "        vertical-align: middle;\n",
       "    }\n",
       "\n",
       "    .dataframe tbody tr th {\n",
       "        vertical-align: top;\n",
       "    }\n",
       "\n",
       "    .dataframe thead th {\n",
       "        text-align: right;\n",
       "    }\n",
       "</style>\n",
       "<table border=\"1\" class=\"dataframe\">\n",
       "  <thead>\n",
       "    <tr style=\"text-align: right;\">\n",
       "      <th></th>\n",
       "      <th>original_text</th>\n",
       "      <th>label</th>\n",
       "      <th>tokens</th>\n",
       "      <th>sentence_length</th>\n",
       "    </tr>\n",
       "  </thead>\n",
       "  <tbody>\n",
       "    <tr>\n",
       "      <th>0</th>\n",
       "      <td>There is manuscript evidence that Austen conti...</td>\n",
       "      <td>1</td>\n",
       "      <td>[there, is, manuscript, evidence, that, austen...</td>\n",
       "      <td>43</td>\n",
       "    </tr>\n",
       "    <tr>\n",
       "      <th>1</th>\n",
       "      <td>In a remarkable comparative analysis , Mandaea...</td>\n",
       "      <td>1</td>\n",
       "      <td>[in, a, remarkable, comparative, analysis, ,, ...</td>\n",
       "      <td>23</td>\n",
       "    </tr>\n",
       "    <tr>\n",
       "      <th>2</th>\n",
       "      <td>Before Persephone was released to Hermes , who...</td>\n",
       "      <td>1</td>\n",
       "      <td>[before, persephone, was, released, to, hermes...</td>\n",
       "      <td>46</td>\n",
       "    </tr>\n",
       "    <tr>\n",
       "      <th>3</th>\n",
       "      <td>Cogeneration plants are commonly found in dist...</td>\n",
       "      <td>1</td>\n",
       "      <td>[cogeneration, plants, are, commonly, found, i...</td>\n",
       "      <td>39</td>\n",
       "    </tr>\n",
       "    <tr>\n",
       "      <th>4</th>\n",
       "      <td>Geneva -LRB- , ; , ; , ; ; -RRB- is the second...</td>\n",
       "      <td>1</td>\n",
       "      <td>[geneva, -lrb-, ,, ;, ,, ;, ,, ;, ;, -rrb-, is...</td>\n",
       "      <td>36</td>\n",
       "    </tr>\n",
       "  </tbody>\n",
       "</table>\n",
       "</div>"
      ],
      "text/plain": [
       "                                       original_text  label  \\\n",
       "0  There is manuscript evidence that Austen conti...      1   \n",
       "1  In a remarkable comparative analysis , Mandaea...      1   \n",
       "2  Before Persephone was released to Hermes , who...      1   \n",
       "3  Cogeneration plants are commonly found in dist...      1   \n",
       "4  Geneva -LRB- , ; , ; , ; ; -RRB- is the second...      1   \n",
       "\n",
       "                                              tokens  sentence_length  \n",
       "0  [there, is, manuscript, evidence, that, austen...               43  \n",
       "1  [in, a, remarkable, comparative, analysis, ,, ...               23  \n",
       "2  [before, persephone, was, released, to, hermes...               46  \n",
       "3  [cogeneration, plants, are, commonly, found, i...               39  \n",
       "4  [geneva, -lrb-, ,, ;, ,, ;, ,, ;, ;, -rrb-, is...               36  "
      ]
     },
     "execution_count": 5,
     "metadata": {},
     "output_type": "execute_result"
    }
   ],
   "source": [
    "%%time\n",
    "df = ut.produce_dataframe(training_path)\n",
    "df.head()"
   ]
  },
  {
   "cell_type": "code",
   "execution_count": 6,
   "id": "31a884f6",
   "metadata": {},
   "outputs": [
    {
     "data": {
      "text/plain": [
       "(416768, 4)"
      ]
     },
     "execution_count": 6,
     "metadata": {},
     "output_type": "execute_result"
    }
   ],
   "source": [
    "df.shape"
   ]
  },
  {
   "cell_type": "code",
   "execution_count": 7,
   "id": "8d261f44",
   "metadata": {},
   "outputs": [
    {
     "data": {
      "text/plain": [
       "(416768, 4)"
      ]
     },
     "execution_count": 7,
     "metadata": {},
     "output_type": "execute_result"
    }
   ],
   "source": [
    "# for development purposes\n",
    "df_x = df.sample(frac=1, random_state=42)\n",
    "df_x.shape"
   ]
  },
  {
   "cell_type": "markdown",
   "id": "f6278e7d",
   "metadata": {},
   "source": [
    "## Add concreteness and the percent recognized"
   ]
  },
  {
   "cell_type": "code",
   "execution_count": 8,
   "id": "d9050eac",
   "metadata": {},
   "outputs": [],
   "source": [
    "# concreteness dataframe for reference\n",
    "conc_df = pd.read_csv('../data/Concreteness_ratings_Brysbaert_et_al_BRM.csv', \n",
    "                 skiprows=0, \n",
    "                 error_bad_lines=False)"
   ]
  },
  {
   "cell_type": "code",
   "execution_count": 9,
   "id": "4adc57df",
   "metadata": {},
   "outputs": [
    {
     "name": "stdout",
     "output_type": "stream",
     "text": [
      "CPU times: user 47.1 s, sys: 60.3 ms, total: 47.1 s\n",
      "Wall time: 47.1 s\n"
     ]
    },
    {
     "data": {
      "text/html": [
       "<div>\n",
       "<style scoped>\n",
       "    .dataframe tbody tr th:only-of-type {\n",
       "        vertical-align: middle;\n",
       "    }\n",
       "\n",
       "    .dataframe tbody tr th {\n",
       "        vertical-align: top;\n",
       "    }\n",
       "\n",
       "    .dataframe thead th {\n",
       "        text-align: right;\n",
       "    }\n",
       "</style>\n",
       "<table border=\"1\" class=\"dataframe\">\n",
       "  <thead>\n",
       "    <tr style=\"text-align: right;\">\n",
       "      <th></th>\n",
       "      <th>original_text</th>\n",
       "      <th>label</th>\n",
       "      <th>tokens</th>\n",
       "      <th>sentence_length</th>\n",
       "      <th>concreteness</th>\n",
       "      <th>recognized</th>\n",
       "    </tr>\n",
       "  </thead>\n",
       "  <tbody>\n",
       "    <tr>\n",
       "      <th>8521</th>\n",
       "      <td>Diego María de la Concepción Juan Nepomuceno E...</td>\n",
       "      <td>1</td>\n",
       "      <td>[diego, maría, de, la, concepción, juan, nepom...</td>\n",
       "      <td>57</td>\n",
       "      <td>0.680526</td>\n",
       "      <td>0.260526</td>\n",
       "    </tr>\n",
       "    <tr>\n",
       "      <th>182810</th>\n",
       "      <td>Some of the 1930s trams are still in regular s...</td>\n",
       "      <td>1</td>\n",
       "      <td>[some, of, the, 1930s, trams, are, still, in, ...</td>\n",
       "      <td>15</td>\n",
       "      <td>1.868000</td>\n",
       "      <td>0.800000</td>\n",
       "    </tr>\n",
       "    <tr>\n",
       "      <th>275464</th>\n",
       "      <td>Emperor Go-Momozono -LRB- Japan -RRB-</td>\n",
       "      <td>0</td>\n",
       "      <td>[emperor, go-momozono, -lrb-, japan, -rrb-]</td>\n",
       "      <td>5</td>\n",
       "      <td>1.834000</td>\n",
       "      <td>0.400000</td>\n",
       "    </tr>\n",
       "    <tr>\n",
       "      <th>176814</th>\n",
       "      <td>In other countries , potassium iodate is used ...</td>\n",
       "      <td>1</td>\n",
       "      <td>[in, other, countries, ,, potassium, iodate, i...</td>\n",
       "      <td>13</td>\n",
       "      <td>1.833077</td>\n",
       "      <td>0.692308</td>\n",
       "    </tr>\n",
       "    <tr>\n",
       "      <th>196293</th>\n",
       "      <td>Located in a region called Planalto Central , ...</td>\n",
       "      <td>1</td>\n",
       "      <td>[located, in, a, region, called, planalto, cen...</td>\n",
       "      <td>22</td>\n",
       "      <td>1.646818</td>\n",
       "      <td>0.630000</td>\n",
       "    </tr>\n",
       "  </tbody>\n",
       "</table>\n",
       "</div>"
      ],
      "text/plain": [
       "                                            original_text  label  \\\n",
       "8521    Diego María de la Concepción Juan Nepomuceno E...      1   \n",
       "182810  Some of the 1930s trams are still in regular s...      1   \n",
       "275464              Emperor Go-Momozono -LRB- Japan -RRB-      0   \n",
       "176814  In other countries , potassium iodate is used ...      1   \n",
       "196293  Located in a region called Planalto Central , ...      1   \n",
       "\n",
       "                                                   tokens  sentence_length  \\\n",
       "8521    [diego, maría, de, la, concepción, juan, nepom...               57   \n",
       "182810  [some, of, the, 1930s, trams, are, still, in, ...               15   \n",
       "275464        [emperor, go-momozono, -lrb-, japan, -rrb-]                5   \n",
       "176814  [in, other, countries, ,, potassium, iodate, i...               13   \n",
       "196293  [located, in, a, region, called, planalto, cen...               22   \n",
       "\n",
       "        concreteness  recognized  \n",
       "8521        0.680526    0.260526  \n",
       "182810      1.868000    0.800000  \n",
       "275464      1.834000    0.400000  \n",
       "176814      1.833077    0.692308  \n",
       "196293      1.646818    0.630000  "
      ]
     },
     "execution_count": 9,
     "metadata": {},
     "output_type": "execute_result"
    }
   ],
   "source": [
    "%%time\n",
    "df_plus_conc = ut.derive_concrete_score(df_x, conc_df)\n",
    "df_plus_conc.head()"
   ]
  },
  {
   "cell_type": "code",
   "execution_count": 10,
   "id": "f0525de6",
   "metadata": {},
   "outputs": [],
   "source": [
    "df_d = df_plus_conc"
   ]
  },
  {
   "cell_type": "markdown",
   "id": "cbb524ff",
   "metadata": {},
   "source": [
    "## Add the Dale-Chall scores"
   ]
  },
  {
   "cell_type": "code",
   "execution_count": 11,
   "id": "4337d396",
   "metadata": {},
   "outputs": [],
   "source": [
    "# get the dale-chall list in as an index\n",
    "dale_chall_list = ut.create_dale_chall_list('../data/dale_chall.txt')"
   ]
  },
  {
   "cell_type": "code",
   "execution_count": 12,
   "id": "d5eca465",
   "metadata": {},
   "outputs": [
    {
     "name": "stdout",
     "output_type": "stream",
     "text": [
      "CPU times: user 3min 19s, sys: 19.7 ms, total: 3min 19s\n",
      "Wall time: 3min 19s\n"
     ]
    }
   ],
   "source": [
    "%%time\n",
    "df_d['dale_chall_count'] = df_d.apply(lambda x: ut.dale_chall_check_each_token(x['tokens'], dale_chall_list), axis=1)"
   ]
  },
  {
   "cell_type": "code",
   "execution_count": 13,
   "id": "4c7579ef",
   "metadata": {},
   "outputs": [
    {
     "data": {
      "text/html": [
       "<div>\n",
       "<style scoped>\n",
       "    .dataframe tbody tr th:only-of-type {\n",
       "        vertical-align: middle;\n",
       "    }\n",
       "\n",
       "    .dataframe tbody tr th {\n",
       "        vertical-align: top;\n",
       "    }\n",
       "\n",
       "    .dataframe thead th {\n",
       "        text-align: right;\n",
       "    }\n",
       "</style>\n",
       "<table border=\"1\" class=\"dataframe\">\n",
       "  <thead>\n",
       "    <tr style=\"text-align: right;\">\n",
       "      <th></th>\n",
       "      <th>original_text</th>\n",
       "      <th>label</th>\n",
       "      <th>tokens</th>\n",
       "      <th>sentence_length</th>\n",
       "      <th>concreteness</th>\n",
       "      <th>recognized</th>\n",
       "      <th>dale_chall_count</th>\n",
       "    </tr>\n",
       "  </thead>\n",
       "  <tbody>\n",
       "    <tr>\n",
       "      <th>8521</th>\n",
       "      <td>Diego María de la Concepción Juan Nepomuceno E...</td>\n",
       "      <td>1</td>\n",
       "      <td>[diego, maría, de, la, concepción, juan, nepom...</td>\n",
       "      <td>57</td>\n",
       "      <td>0.680526</td>\n",
       "      <td>0.260526</td>\n",
       "      <td>10</td>\n",
       "    </tr>\n",
       "    <tr>\n",
       "      <th>182810</th>\n",
       "      <td>Some of the 1930s trams are still in regular s...</td>\n",
       "      <td>1</td>\n",
       "      <td>[some, of, the, 1930s, trams, are, still, in, ...</td>\n",
       "      <td>15</td>\n",
       "      <td>1.868000</td>\n",
       "      <td>0.800000</td>\n",
       "      <td>8</td>\n",
       "    </tr>\n",
       "    <tr>\n",
       "      <th>275464</th>\n",
       "      <td>Emperor Go-Momozono -LRB- Japan -RRB-</td>\n",
       "      <td>0</td>\n",
       "      <td>[emperor, go-momozono, -lrb-, japan, -rrb-]</td>\n",
       "      <td>5</td>\n",
       "      <td>1.834000</td>\n",
       "      <td>0.400000</td>\n",
       "      <td>0</td>\n",
       "    </tr>\n",
       "    <tr>\n",
       "      <th>176814</th>\n",
       "      <td>In other countries , potassium iodate is used ...</td>\n",
       "      <td>1</td>\n",
       "      <td>[in, other, countries, ,, potassium, iodate, i...</td>\n",
       "      <td>13</td>\n",
       "      <td>1.833077</td>\n",
       "      <td>0.692308</td>\n",
       "      <td>6</td>\n",
       "    </tr>\n",
       "    <tr>\n",
       "      <th>196293</th>\n",
       "      <td>Located in a region called Planalto Central , ...</td>\n",
       "      <td>1</td>\n",
       "      <td>[located, in, a, region, called, planalto, cen...</td>\n",
       "      <td>22</td>\n",
       "      <td>1.646818</td>\n",
       "      <td>0.630000</td>\n",
       "      <td>6</td>\n",
       "    </tr>\n",
       "  </tbody>\n",
       "</table>\n",
       "</div>"
      ],
      "text/plain": [
       "                                            original_text  label  \\\n",
       "8521    Diego María de la Concepción Juan Nepomuceno E...      1   \n",
       "182810  Some of the 1930s trams are still in regular s...      1   \n",
       "275464              Emperor Go-Momozono -LRB- Japan -RRB-      0   \n",
       "176814  In other countries , potassium iodate is used ...      1   \n",
       "196293  Located in a region called Planalto Central , ...      1   \n",
       "\n",
       "                                                   tokens  sentence_length  \\\n",
       "8521    [diego, maría, de, la, concepción, juan, nepom...               57   \n",
       "182810  [some, of, the, 1930s, trams, are, still, in, ...               15   \n",
       "275464        [emperor, go-momozono, -lrb-, japan, -rrb-]                5   \n",
       "176814  [in, other, countries, ,, potassium, iodate, i...               13   \n",
       "196293  [located, in, a, region, called, planalto, cen...               22   \n",
       "\n",
       "        concreteness  recognized  dale_chall_count  \n",
       "8521        0.680526    0.260526                10  \n",
       "182810      1.868000    0.800000                 8  \n",
       "275464      1.834000    0.400000                 0  \n",
       "176814      1.833077    0.692308                 6  \n",
       "196293      1.646818    0.630000                 6  "
      ]
     },
     "execution_count": 13,
     "metadata": {},
     "output_type": "execute_result"
    }
   ],
   "source": [
    "df_d.head()"
   ]
  },
  {
   "cell_type": "markdown",
   "id": "900dd865",
   "metadata": {},
   "source": [
    "## Add Age of Acquisition and 2nd recognition measure"
   ]
  },
  {
   "cell_type": "code",
   "execution_count": 14,
   "id": "78e59f5b",
   "metadata": {},
   "outputs": [],
   "source": [
    "df_age = df_d"
   ]
  },
  {
   "cell_type": "code",
   "execution_count": 15,
   "id": "27bd0e19",
   "metadata": {},
   "outputs": [],
   "source": [
    "aoa_df = pd.read_csv('../data/AoA_51715_words.csv')"
   ]
  },
  {
   "cell_type": "code",
   "execution_count": 16,
   "id": "91f00275",
   "metadata": {},
   "outputs": [
    {
     "name": "stdout",
     "output_type": "stream",
     "text": [
      "CPU times: user 37.8 s, sys: 40 ms, total: 37.8 s\n",
      "Wall time: 37.9 s\n"
     ]
    }
   ],
   "source": [
    "%%time\n",
    "\n",
    "df_main = ut.derive_age_of_acquisition(df_age, aoa_df)"
   ]
  },
  {
   "cell_type": "code",
   "execution_count": 17,
   "id": "249e15af",
   "metadata": {},
   "outputs": [
    {
     "data": {
      "text/html": [
       "<div>\n",
       "<style scoped>\n",
       "    .dataframe tbody tr th:only-of-type {\n",
       "        vertical-align: middle;\n",
       "    }\n",
       "\n",
       "    .dataframe tbody tr th {\n",
       "        vertical-align: top;\n",
       "    }\n",
       "\n",
       "    .dataframe thead th {\n",
       "        text-align: right;\n",
       "    }\n",
       "</style>\n",
       "<table border=\"1\" class=\"dataframe\">\n",
       "  <thead>\n",
       "    <tr style=\"text-align: right;\">\n",
       "      <th></th>\n",
       "      <th>original_text</th>\n",
       "      <th>label</th>\n",
       "      <th>tokens</th>\n",
       "      <th>sentence_length</th>\n",
       "      <th>concreteness</th>\n",
       "      <th>recognized</th>\n",
       "      <th>dale_chall_count</th>\n",
       "      <th>aoa</th>\n",
       "      <th>perc_known</th>\n",
       "    </tr>\n",
       "  </thead>\n",
       "  <tbody>\n",
       "    <tr>\n",
       "      <th>8521</th>\n",
       "      <td>Diego María de la Concepción Juan Nepomuceno E...</td>\n",
       "      <td>1</td>\n",
       "      <td>[diego, maría, de, la, concepción, juan, nepom...</td>\n",
       "      <td>57</td>\n",
       "      <td>0.680526</td>\n",
       "      <td>0.260526</td>\n",
       "      <td>10</td>\n",
       "      <td>1.345263</td>\n",
       "      <td>0.226316</td>\n",
       "    </tr>\n",
       "    <tr>\n",
       "      <th>182810</th>\n",
       "      <td>Some of the 1930s trams are still in regular s...</td>\n",
       "      <td>1</td>\n",
       "      <td>[some, of, the, 1930s, trams, are, still, in, ...</td>\n",
       "      <td>15</td>\n",
       "      <td>1.868000</td>\n",
       "      <td>0.800000</td>\n",
       "      <td>8</td>\n",
       "      <td>4.750667</td>\n",
       "      <td>0.730000</td>\n",
       "    </tr>\n",
       "    <tr>\n",
       "      <th>275464</th>\n",
       "      <td>Emperor Go-Momozono -LRB- Japan -RRB-</td>\n",
       "      <td>0</td>\n",
       "      <td>[emperor, go-momozono, -lrb-, japan, -rrb-]</td>\n",
       "      <td>5</td>\n",
       "      <td>1.834000</td>\n",
       "      <td>0.400000</td>\n",
       "      <td>0</td>\n",
       "      <td>2.954000</td>\n",
       "      <td>0.390000</td>\n",
       "    </tr>\n",
       "    <tr>\n",
       "      <th>176814</th>\n",
       "      <td>In other countries , potassium iodate is used ...</td>\n",
       "      <td>1</td>\n",
       "      <td>[in, other, countries, ,, potassium, iodate, i...</td>\n",
       "      <td>13</td>\n",
       "      <td>1.833077</td>\n",
       "      <td>0.692308</td>\n",
       "      <td>6</td>\n",
       "      <td>3.983846</td>\n",
       "      <td>0.530000</td>\n",
       "    </tr>\n",
       "    <tr>\n",
       "      <th>196293</th>\n",
       "      <td>Located in a region called Planalto Central , ...</td>\n",
       "      <td>1</td>\n",
       "      <td>[located, in, a, region, called, planalto, cen...</td>\n",
       "      <td>22</td>\n",
       "      <td>1.646818</td>\n",
       "      <td>0.630000</td>\n",
       "      <td>6</td>\n",
       "      <td>4.002727</td>\n",
       "      <td>0.545455</td>\n",
       "    </tr>\n",
       "  </tbody>\n",
       "</table>\n",
       "</div>"
      ],
      "text/plain": [
       "                                            original_text  label  \\\n",
       "8521    Diego María de la Concepción Juan Nepomuceno E...      1   \n",
       "182810  Some of the 1930s trams are still in regular s...      1   \n",
       "275464              Emperor Go-Momozono -LRB- Japan -RRB-      0   \n",
       "176814  In other countries , potassium iodate is used ...      1   \n",
       "196293  Located in a region called Planalto Central , ...      1   \n",
       "\n",
       "                                                   tokens  sentence_length  \\\n",
       "8521    [diego, maría, de, la, concepción, juan, nepom...               57   \n",
       "182810  [some, of, the, 1930s, trams, are, still, in, ...               15   \n",
       "275464        [emperor, go-momozono, -lrb-, japan, -rrb-]                5   \n",
       "176814  [in, other, countries, ,, potassium, iodate, i...               13   \n",
       "196293  [located, in, a, region, called, planalto, cen...               22   \n",
       "\n",
       "        concreteness  recognized  dale_chall_count       aoa  perc_known  \n",
       "8521        0.680526    0.260526                10  1.345263    0.226316  \n",
       "182810      1.868000    0.800000                 8  4.750667    0.730000  \n",
       "275464      1.834000    0.400000                 0  2.954000    0.390000  \n",
       "176814      1.833077    0.692308                 6  3.983846    0.530000  \n",
       "196293      1.646818    0.630000                 6  4.002727    0.545455  "
      ]
     },
     "execution_count": 17,
     "metadata": {},
     "output_type": "execute_result"
    }
   ],
   "source": [
    "df_main.head()"
   ]
  },
  {
   "cell_type": "markdown",
   "id": "7b8c1e98",
   "metadata": {},
   "source": [
    "## Add Flesch-Kincaid Readability Score"
   ]
  },
  {
   "cell_type": "code",
   "execution_count": 18,
   "id": "90decd7a",
   "metadata": {},
   "outputs": [
    {
     "name": "stdout",
     "output_type": "stream",
     "text": [
      "CPU times: user 39.3 s, sys: 40 ms, total: 39.3 s\n",
      "Wall time: 39.3 s\n"
     ]
    }
   ],
   "source": [
    "%%time\n",
    "df = ut.produce_flesch_kincaid(df_main)"
   ]
  },
  {
   "cell_type": "code",
   "execution_count": 19,
   "id": "bc7b196c",
   "metadata": {},
   "outputs": [
    {
     "data": {
      "text/html": [
       "<div>\n",
       "<style scoped>\n",
       "    .dataframe tbody tr th:only-of-type {\n",
       "        vertical-align: middle;\n",
       "    }\n",
       "\n",
       "    .dataframe tbody tr th {\n",
       "        vertical-align: top;\n",
       "    }\n",
       "\n",
       "    .dataframe thead th {\n",
       "        text-align: right;\n",
       "    }\n",
       "</style>\n",
       "<table border=\"1\" class=\"dataframe\">\n",
       "  <thead>\n",
       "    <tr style=\"text-align: right;\">\n",
       "      <th></th>\n",
       "      <th>original_text</th>\n",
       "      <th>label</th>\n",
       "      <th>tokens</th>\n",
       "      <th>sentence_length</th>\n",
       "      <th>concreteness</th>\n",
       "      <th>recognized</th>\n",
       "      <th>dale_chall_count</th>\n",
       "      <th>aoa</th>\n",
       "      <th>perc_known</th>\n",
       "      <th>fk_ease</th>\n",
       "      <th>fk_grade</th>\n",
       "    </tr>\n",
       "  </thead>\n",
       "  <tbody>\n",
       "    <tr>\n",
       "      <th>8521</th>\n",
       "      <td>Diego María de la Concepción Juan Nepomuceno E...</td>\n",
       "      <td>1</td>\n",
       "      <td>[diego, maría, de, la, concepción, juan, nepom...</td>\n",
       "      <td>57</td>\n",
       "      <td>0.680526</td>\n",
       "      <td>0.260526</td>\n",
       "      <td>10</td>\n",
       "      <td>1.345263</td>\n",
       "      <td>0.226316</td>\n",
       "      <td>22.76</td>\n",
       "      <td>22.0</td>\n",
       "    </tr>\n",
       "    <tr>\n",
       "      <th>182810</th>\n",
       "      <td>Some of the 1930s trams are still in regular s...</td>\n",
       "      <td>1</td>\n",
       "      <td>[some, of, the, 1930s, trams, are, still, in, ...</td>\n",
       "      <td>15</td>\n",
       "      <td>1.868000</td>\n",
       "      <td>0.800000</td>\n",
       "      <td>8</td>\n",
       "      <td>4.750667</td>\n",
       "      <td>0.730000</td>\n",
       "      <td>57.27</td>\n",
       "      <td>8.8</td>\n",
       "    </tr>\n",
       "    <tr>\n",
       "      <th>275464</th>\n",
       "      <td>Emperor Go-Momozono -LRB- Japan -RRB-</td>\n",
       "      <td>0</td>\n",
       "      <td>[emperor, go-momozono, -lrb-, japan, -rrb-]</td>\n",
       "      <td>5</td>\n",
       "      <td>1.834000</td>\n",
       "      <td>0.400000</td>\n",
       "      <td>0</td>\n",
       "      <td>2.954000</td>\n",
       "      <td>0.390000</td>\n",
       "      <td>32.56</td>\n",
       "      <td>10.0</td>\n",
       "    </tr>\n",
       "    <tr>\n",
       "      <th>176814</th>\n",
       "      <td>In other countries , potassium iodate is used ...</td>\n",
       "      <td>1</td>\n",
       "      <td>[in, other, countries, ,, potassium, iodate, i...</td>\n",
       "      <td>13</td>\n",
       "      <td>1.833077</td>\n",
       "      <td>0.692308</td>\n",
       "      <td>6</td>\n",
       "      <td>3.983846</td>\n",
       "      <td>0.530000</td>\n",
       "      <td>68.77</td>\n",
       "      <td>6.4</td>\n",
       "    </tr>\n",
       "    <tr>\n",
       "      <th>196293</th>\n",
       "      <td>Located in a region called Planalto Central , ...</td>\n",
       "      <td>1</td>\n",
       "      <td>[located, in, a, region, called, planalto, cen...</td>\n",
       "      <td>22</td>\n",
       "      <td>1.646818</td>\n",
       "      <td>0.630000</td>\n",
       "      <td>6</td>\n",
       "      <td>4.002727</td>\n",
       "      <td>0.545455</td>\n",
       "      <td>35.27</td>\n",
       "      <td>13.1</td>\n",
       "    </tr>\n",
       "  </tbody>\n",
       "</table>\n",
       "</div>"
      ],
      "text/plain": [
       "                                            original_text  label  \\\n",
       "8521    Diego María de la Concepción Juan Nepomuceno E...      1   \n",
       "182810  Some of the 1930s trams are still in regular s...      1   \n",
       "275464              Emperor Go-Momozono -LRB- Japan -RRB-      0   \n",
       "176814  In other countries , potassium iodate is used ...      1   \n",
       "196293  Located in a region called Planalto Central , ...      1   \n",
       "\n",
       "                                                   tokens  sentence_length  \\\n",
       "8521    [diego, maría, de, la, concepción, juan, nepom...               57   \n",
       "182810  [some, of, the, 1930s, trams, are, still, in, ...               15   \n",
       "275464        [emperor, go-momozono, -lrb-, japan, -rrb-]                5   \n",
       "176814  [in, other, countries, ,, potassium, iodate, i...               13   \n",
       "196293  [located, in, a, region, called, planalto, cen...               22   \n",
       "\n",
       "        concreteness  recognized  dale_chall_count       aoa  perc_known  \\\n",
       "8521        0.680526    0.260526                10  1.345263    0.226316   \n",
       "182810      1.868000    0.800000                 8  4.750667    0.730000   \n",
       "275464      1.834000    0.400000                 0  2.954000    0.390000   \n",
       "176814      1.833077    0.692308                 6  3.983846    0.530000   \n",
       "196293      1.646818    0.630000                 6  4.002727    0.545455   \n",
       "\n",
       "        fk_ease  fk_grade  \n",
       "8521      22.76      22.0  \n",
       "182810    57.27       8.8  \n",
       "275464    32.56      10.0  \n",
       "176814    68.77       6.4  \n",
       "196293    35.27      13.1  "
      ]
     },
     "execution_count": 19,
     "metadata": {},
     "output_type": "execute_result"
    }
   ],
   "source": [
    "df.head()"
   ]
  },
  {
   "cell_type": "markdown",
   "id": "2a715ce9",
   "metadata": {},
   "source": [
    "# Create the Derived Features Dataframe to train the models"
   ]
  },
  {
   "cell_type": "code",
   "execution_count": 20,
   "id": "66ffe118",
   "metadata": {},
   "outputs": [],
   "source": [
    "# list(df.columns)"
   ]
  },
  {
   "cell_type": "code",
   "execution_count": 21,
   "id": "e5252b9e",
   "metadata": {},
   "outputs": [],
   "source": [
    "derived_features = ['sentence_length',\n",
    " 'concreteness',\n",
    " 'recognized',\n",
    " 'dale_chall_count',\n",
    " 'aoa',\n",
    " 'perc_known',\n",
    " 'fk_ease',\n",
    " 'fk_grade']"
   ]
  },
  {
   "cell_type": "code",
   "execution_count": 22,
   "id": "cfbcca0a",
   "metadata": {},
   "outputs": [],
   "source": [
    "X = df[derived_features]\n",
    "y = df['label']"
   ]
  },
  {
   "cell_type": "code",
   "execution_count": 23,
   "id": "77861368",
   "metadata": {
    "scrolled": true
   },
   "outputs": [
    {
     "data": {
      "text/html": [
       "<div>\n",
       "<style scoped>\n",
       "    .dataframe tbody tr th:only-of-type {\n",
       "        vertical-align: middle;\n",
       "    }\n",
       "\n",
       "    .dataframe tbody tr th {\n",
       "        vertical-align: top;\n",
       "    }\n",
       "\n",
       "    .dataframe thead th {\n",
       "        text-align: right;\n",
       "    }\n",
       "</style>\n",
       "<table border=\"1\" class=\"dataframe\">\n",
       "  <thead>\n",
       "    <tr style=\"text-align: right;\">\n",
       "      <th></th>\n",
       "      <th>sentence_length</th>\n",
       "      <th>concreteness</th>\n",
       "      <th>recognized</th>\n",
       "      <th>dale_chall_count</th>\n",
       "      <th>aoa</th>\n",
       "      <th>perc_known</th>\n",
       "      <th>fk_ease</th>\n",
       "      <th>fk_grade</th>\n",
       "    </tr>\n",
       "  </thead>\n",
       "  <tbody>\n",
       "    <tr>\n",
       "      <th>8521</th>\n",
       "      <td>57</td>\n",
       "      <td>0.680526</td>\n",
       "      <td>0.260526</td>\n",
       "      <td>10</td>\n",
       "      <td>1.345263</td>\n",
       "      <td>0.226316</td>\n",
       "      <td>22.76</td>\n",
       "      <td>22.0</td>\n",
       "    </tr>\n",
       "    <tr>\n",
       "      <th>182810</th>\n",
       "      <td>15</td>\n",
       "      <td>1.868000</td>\n",
       "      <td>0.800000</td>\n",
       "      <td>8</td>\n",
       "      <td>4.750667</td>\n",
       "      <td>0.730000</td>\n",
       "      <td>57.27</td>\n",
       "      <td>8.8</td>\n",
       "    </tr>\n",
       "    <tr>\n",
       "      <th>275464</th>\n",
       "      <td>5</td>\n",
       "      <td>1.834000</td>\n",
       "      <td>0.400000</td>\n",
       "      <td>0</td>\n",
       "      <td>2.954000</td>\n",
       "      <td>0.390000</td>\n",
       "      <td>32.56</td>\n",
       "      <td>10.0</td>\n",
       "    </tr>\n",
       "    <tr>\n",
       "      <th>176814</th>\n",
       "      <td>13</td>\n",
       "      <td>1.833077</td>\n",
       "      <td>0.692308</td>\n",
       "      <td>6</td>\n",
       "      <td>3.983846</td>\n",
       "      <td>0.530000</td>\n",
       "      <td>68.77</td>\n",
       "      <td>6.4</td>\n",
       "    </tr>\n",
       "    <tr>\n",
       "      <th>196293</th>\n",
       "      <td>22</td>\n",
       "      <td>1.646818</td>\n",
       "      <td>0.630000</td>\n",
       "      <td>6</td>\n",
       "      <td>4.002727</td>\n",
       "      <td>0.545455</td>\n",
       "      <td>35.27</td>\n",
       "      <td>13.1</td>\n",
       "    </tr>\n",
       "  </tbody>\n",
       "</table>\n",
       "</div>"
      ],
      "text/plain": [
       "        sentence_length  concreteness  recognized  dale_chall_count       aoa  \\\n",
       "8521                 57      0.680526    0.260526                10  1.345263   \n",
       "182810               15      1.868000    0.800000                 8  4.750667   \n",
       "275464                5      1.834000    0.400000                 0  2.954000   \n",
       "176814               13      1.833077    0.692308                 6  3.983846   \n",
       "196293               22      1.646818    0.630000                 6  4.002727   \n",
       "\n",
       "        perc_known  fk_ease  fk_grade  \n",
       "8521      0.226316    22.76      22.0  \n",
       "182810    0.730000    57.27       8.8  \n",
       "275464    0.390000    32.56      10.0  \n",
       "176814    0.530000    68.77       6.4  \n",
       "196293    0.545455    35.27      13.1  "
      ]
     },
     "execution_count": 23,
     "metadata": {},
     "output_type": "execute_result"
    }
   ],
   "source": [
    "X.head()"
   ]
  },
  {
   "cell_type": "code",
   "execution_count": 24,
   "id": "cb04a196",
   "metadata": {},
   "outputs": [
    {
     "data": {
      "text/plain": [
       "(416768, 8)"
      ]
     },
     "execution_count": 24,
     "metadata": {},
     "output_type": "execute_result"
    }
   ],
   "source": [
    "X.shape"
   ]
  },
  {
   "cell_type": "markdown",
   "id": "b5a3895d",
   "metadata": {},
   "source": [
    "# Compare the Models"
   ]
  },
  {
   "cell_type": "markdown",
   "id": "b70c3c2b",
   "metadata": {},
   "source": [
    "## Principal Components Analaysis\n",
    "\n",
    "Reduce the 8 dimensions to 2 and plot"
   ]
  },
  {
   "cell_type": "code",
   "execution_count": 25,
   "id": "83c02224",
   "metadata": {},
   "outputs": [],
   "source": [
    "# whiten to scale the data into the new space"
   ]
  },
  {
   "cell_type": "code",
   "execution_count": 26,
   "id": "aa5d379c",
   "metadata": {},
   "outputs": [],
   "source": [
    "\n",
    "# neighbors should be tuned\n",
    "n_neighbors = 1\n",
    "random_state = 42\n",
    "\n",
    "X_train, X_test, y_train, y_test = train_test_split(X, y, random_state = random_state)"
   ]
  },
  {
   "cell_type": "code",
   "execution_count": 49,
   "id": "82bb98e7",
   "metadata": {},
   "outputs": [
    {
     "data": {
      "text/plain": [
       "0.652401335995086"
      ]
     },
     "execution_count": 49,
     "metadata": {},
     "output_type": "execute_result"
    }
   ],
   "source": [
    "pca = make_pipeline(StandardScaler(), PCA(n_components=2, random_state = random_state))\n",
    "\n",
    "knn = KNeighborsClassifier(n_neighbors = n_neighbors)\n",
    "\n",
    "pca.fit(X_train, y_train)\n",
    "\n",
    "knn.fit(pca.transform(X_train), y_train)\n",
    "\n",
    "acc_knn = knn.score(pca.transform(X_test), y_test)\n",
    "\n",
    "X_embedded = pca.transform(X_test)\n",
    "acc_knn"
   ]
  },
  {
   "cell_type": "code",
   "execution_count": 41,
   "id": "8996e4df",
   "metadata": {},
   "outputs": [
    {
     "data": {
      "text/plain": [
       "KMeans(n_clusters=2, random_state=42)"
      ]
     },
     "execution_count": 41,
     "metadata": {},
     "output_type": "execute_result"
    }
   ],
   "source": [
    "kmeans = KMeans(n_clusters=2, random_state=42)\n",
    "kmeans.fit(X_train)"
   ]
  },
  {
   "cell_type": "code",
   "execution_count": 42,
   "id": "50f1df62",
   "metadata": {},
   "outputs": [
    {
     "data": {
      "text/plain": [
       "0.4057509213759214"
      ]
     },
     "execution_count": 42,
     "metadata": {},
     "output_type": "execute_result"
    }
   ],
   "source": [
    "predicted_clusters = kmeans.predict(X_test)\n",
    "kmeans_acc = accuracy_score(y_test, predicted_clusters)\n",
    "kmeans_acc"
   ]
  },
  {
   "cell_type": "code",
   "execution_count": 38,
   "id": "af3bf60a",
   "metadata": {},
   "outputs": [],
   "source": [
    "newcmp = ListedColormap([\"darkred\", \"darkblue\"], name='RedBlue')"
   ]
  },
  {
   "cell_type": "code",
   "execution_count": 48,
   "id": "aedbb63e",
   "metadata": {},
   "outputs": [
    {
     "data": {
      "image/png": "[encoded data removed]",
      "text/plain": [
       "<Figure size 1152x576 with 2 Axes>"
      ]
     },
     "metadata": {
      "needs_background": "light"
     },
     "output_type": "display_data"
    }
   ],
   "source": [
    "fig, (ax1, ax2) = plt.subplots(1, 2, figsize=(16, 8))\n",
    "\n",
    "ax1.scatter(X_embedded[:, 0], X_embedded[:, 1], c=predicted_clusters, s=10, cmap=newcmp)\n",
    "ax1.set_xlabel('Component 1')\n",
    "ax1.set_ylabel('Component 2')\n",
    "ax1.set_title(\"Unsupervised Clustering\\n {}, KMeans \\nTest accuracy = {:.2f}\".format(\"PCA\", kmeans_acc))\n",
    "\n",
    "\n",
    "ax2.scatter(X_embedded[:, 0], X_embedded[:, 1], c=y_test, s=10, cmap=newcmp)\n",
    "ax2.set_xlabel('Component 1')\n",
    "ax2.set_ylabel('Component 2')\n",
    "ax2.set_title(\"Supervised Classification \\n{}, KNN (k={})\\nTest accuracy = {:.2f}\".format(\"PCA\", n_neighbors, acc_knn))\n",
    "\n",
    "\n",
    "plt.show()\n"
   ]
  },
  {
   "cell_type": "code",
   "execution_count": 30,
   "id": "31b4e733",
   "metadata": {},
   "outputs": [],
   "source": [
    "# knn 3 = 0.64\n",
    "# knn 1 = 0.65"
   ]
  },
  {
   "cell_type": "code",
   "execution_count": null,
   "id": "ce04f734",
   "metadata": {},
   "outputs": [],
   "source": []
  }
 ],
 "metadata": {
  "kernelspec": {
   "display_name": "Python 3",
   "language": "python",
   "name": "python3"
  },
  "language_info": {
   "codemirror_mode": {
    "name": "ipython",
    "version": 3
   },
   "file_extension": ".py",
   "mimetype": "text/x-python",
   "name": "python",
   "nbconvert_exporter": "python",
   "pygments_lexer": "ipython3",
   "version": "3.8.8"
  }
 },
 "nbformat": 4,
 "nbformat_minor": 5
}
