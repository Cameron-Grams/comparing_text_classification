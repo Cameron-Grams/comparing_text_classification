{
 "cells": [
  {
   "cell_type": "markdown",
   "id": "10ec8c9a",
   "metadata": {},
   "source": [
    "# Stage One\n",
    "1. __Model 2:__ Bigram probability from single training corpus"
   ]
  },
  {
   "cell_type": "code",
   "execution_count": 1,
   "id": "0cd7f0d7",
   "metadata": {},
   "outputs": [],
   "source": [
    "import numpy as np\n",
    "import pandas as pd\n",
    "import matplotlib.pyplot as plt\n",
    "\n",
    "from collections import defaultdict\n",
    "from nltk.tokenize import word_tokenize\n",
    "import textstat\n",
    "from sklearn.metrics import accuracy_score"
   ]
  },
  {
   "cell_type": "code",
   "execution_count": 2,
   "id": "54648684",
   "metadata": {},
   "outputs": [],
   "source": [
    "import utilities as ut"
   ]
  },
  {
   "cell_type": "code",
   "execution_count": 3,
   "id": "639a443b",
   "metadata": {},
   "outputs": [],
   "source": [
    "training_path = './data/WikiLarge_Train.csv'"
   ]
  },
  {
   "cell_type": "code",
   "execution_count": 4,
   "id": "3363cda1",
   "metadata": {},
   "outputs": [
    {
     "name": "stdout",
     "output_type": "stream",
     "text": [
      "CPU times: user 56.5 s, sys: 483 ms, total: 56.9 s\n",
      "Wall time: 57 s\n"
     ]
    }
   ],
   "source": [
    "%%time\n",
    "main_df = ut.produce_dataframe(training_path)"
   ]
  },
  {
   "cell_type": "code",
   "execution_count": 5,
   "id": "1af34915",
   "metadata": {},
   "outputs": [
    {
     "data": {
      "text/plain": [
       "(416768, 4)"
      ]
     },
     "execution_count": 5,
     "metadata": {},
     "output_type": "execute_result"
    }
   ],
   "source": [
    "main_df.shape"
   ]
  },
  {
   "cell_type": "code",
   "execution_count": 6,
   "id": "9f53c7a6",
   "metadata": {
    "scrolled": true
   },
   "outputs": [
    {
     "data": {
      "text/html": [
       "<div>\n",
       "<style scoped>\n",
       "    .dataframe tbody tr th:only-of-type {\n",
       "        vertical-align: middle;\n",
       "    }\n",
       "\n",
       "    .dataframe tbody tr th {\n",
       "        vertical-align: top;\n",
       "    }\n",
       "\n",
       "    .dataframe thead th {\n",
       "        text-align: right;\n",
       "    }\n",
       "</style>\n",
       "<table border=\"1\" class=\"dataframe\">\n",
       "  <thead>\n",
       "    <tr style=\"text-align: right;\">\n",
       "      <th></th>\n",
       "      <th>original_text</th>\n",
       "      <th>label</th>\n",
       "      <th>tokens</th>\n",
       "      <th>sentence_length</th>\n",
       "    </tr>\n",
       "  </thead>\n",
       "  <tbody>\n",
       "    <tr>\n",
       "      <th>0</th>\n",
       "      <td>There is manuscript evidence that Austen conti...</td>\n",
       "      <td>1</td>\n",
       "      <td>[there, is, manuscript, evidence, that, austen...</td>\n",
       "      <td>43</td>\n",
       "    </tr>\n",
       "    <tr>\n",
       "      <th>1</th>\n",
       "      <td>In a remarkable comparative analysis , Mandaea...</td>\n",
       "      <td>1</td>\n",
       "      <td>[in, a, remarkable, comparative, analysis, ,, ...</td>\n",
       "      <td>23</td>\n",
       "    </tr>\n",
       "    <tr>\n",
       "      <th>2</th>\n",
       "      <td>Before Persephone was released to Hermes , who...</td>\n",
       "      <td>1</td>\n",
       "      <td>[before, persephone, was, released, to, hermes...</td>\n",
       "      <td>46</td>\n",
       "    </tr>\n",
       "    <tr>\n",
       "      <th>3</th>\n",
       "      <td>Cogeneration plants are commonly found in dist...</td>\n",
       "      <td>1</td>\n",
       "      <td>[cogeneration, plants, are, commonly, found, i...</td>\n",
       "      <td>39</td>\n",
       "    </tr>\n",
       "    <tr>\n",
       "      <th>4</th>\n",
       "      <td>Geneva -LRB- , ; , ; , ; ; -RRB- is the second...</td>\n",
       "      <td>1</td>\n",
       "      <td>[geneva, -lrb-, ,, ;, ,, ;, ,, ;, ;, -rrb-, is...</td>\n",
       "      <td>36</td>\n",
       "    </tr>\n",
       "  </tbody>\n",
       "</table>\n",
       "</div>"
      ],
      "text/plain": [
       "                                       original_text  label  \\\n",
       "0  There is manuscript evidence that Austen conti...      1   \n",
       "1  In a remarkable comparative analysis , Mandaea...      1   \n",
       "2  Before Persephone was released to Hermes , who...      1   \n",
       "3  Cogeneration plants are commonly found in dist...      1   \n",
       "4  Geneva -LRB- , ; , ; , ; ; -RRB- is the second...      1   \n",
       "\n",
       "                                              tokens  sentence_length  \n",
       "0  [there, is, manuscript, evidence, that, austen...               43  \n",
       "1  [in, a, remarkable, comparative, analysis, ,, ...               23  \n",
       "2  [before, persephone, was, released, to, hermes...               46  \n",
       "3  [cogeneration, plants, are, commonly, found, i...               39  \n",
       "4  [geneva, -lrb-, ,, ;, ,, ;, ,, ;, ;, -rrb-, is...               36  "
      ]
     },
     "execution_count": 6,
     "metadata": {},
     "output_type": "execute_result"
    }
   ],
   "source": [
    "main_df.head()"
   ]
  },
  {
   "cell_type": "markdown",
   "id": "be4b3593",
   "metadata": {},
   "source": [
    "### Produce Closed Vocabulary"
   ]
  },
  {
   "cell_type": "code",
   "execution_count": 7,
   "id": "52e034ae",
   "metadata": {},
   "outputs": [],
   "source": [
    "threshold = 12"
   ]
  },
  {
   "cell_type": "code",
   "execution_count": 8,
   "id": "ac1593a4",
   "metadata": {},
   "outputs": [],
   "source": [
    "def build_counts(token_list, d_dict):\n",
    "    for token in token_list:\n",
    "         d_dict[token] += 1\n",
    "    return d_dict"
   ]
  },
  {
   "cell_type": "code",
   "execution_count": 9,
   "id": "a678f0ab",
   "metadata": {},
   "outputs": [],
   "source": [
    "total_word_counts = defaultdict(int)"
   ]
  },
  {
   "cell_type": "code",
   "execution_count": 10,
   "id": "71e019b2",
   "metadata": {},
   "outputs": [
    {
     "data": {
      "text/plain": [
       "0         {'there': 8739, 'is': 164001, 'manuscript': 78...\n",
       "1         {'there': 8739, 'is': 164001, 'manuscript': 78...\n",
       "2         {'there': 8739, 'is': 164001, 'manuscript': 78...\n",
       "3         {'there': 8739, 'is': 164001, 'manuscript': 78...\n",
       "4         {'there': 8739, 'is': 164001, 'manuscript': 78...\n",
       "                                ...                        \n",
       "416763    {'there': 8739, 'is': 164001, 'manuscript': 78...\n",
       "416764    {'there': 8739, 'is': 164001, 'manuscript': 78...\n",
       "416765    {'there': 8739, 'is': 164001, 'manuscript': 78...\n",
       "416766    {'there': 8739, 'is': 164001, 'manuscript': 78...\n",
       "416767    {'there': 8739, 'is': 164001, 'manuscript': 78...\n",
       "Name: tokens, Length: 416768, dtype: object"
      ]
     },
     "execution_count": 10,
     "metadata": {},
     "output_type": "execute_result"
    }
   ],
   "source": [
    "main_df['tokens'].apply(lambda x: build_counts(x, total_word_counts))"
   ]
  },
  {
   "cell_type": "code",
   "execution_count": 11,
   "id": "631ca84c",
   "metadata": {},
   "outputs": [],
   "source": [
    "# replace low frequency words with '<unk>'\n",
    "# input is the list of tokens from the original sentence tokens\n",
    "replace_low_f = lambda x: [t if total_word_counts[t] >= threshold else '<unk>' for t in x]"
   ]
  },
  {
   "cell_type": "code",
   "execution_count": 12,
   "id": "a0cc303e",
   "metadata": {},
   "outputs": [],
   "source": [
    "main_df['closed_tokens_'] = main_df['tokens'].apply(lambda x: replace_low_f(x))\n",
    "main_df['closed_tokens'] = main_df['closed_tokens_'].apply(lambda x: ['<s>'] + x + ['<e>'])"
   ]
  },
  {
   "cell_type": "code",
   "execution_count": 13,
   "id": "fd23392b",
   "metadata": {},
   "outputs": [
    {
     "data": {
      "text/html": [
       "<div>\n",
       "<style scoped>\n",
       "    .dataframe tbody tr th:only-of-type {\n",
       "        vertical-align: middle;\n",
       "    }\n",
       "\n",
       "    .dataframe tbody tr th {\n",
       "        vertical-align: top;\n",
       "    }\n",
       "\n",
       "    .dataframe thead th {\n",
       "        text-align: right;\n",
       "    }\n",
       "</style>\n",
       "<table border=\"1\" class=\"dataframe\">\n",
       "  <thead>\n",
       "    <tr style=\"text-align: right;\">\n",
       "      <th></th>\n",
       "      <th>original_text</th>\n",
       "      <th>label</th>\n",
       "      <th>tokens</th>\n",
       "      <th>sentence_length</th>\n",
       "      <th>closed_tokens_</th>\n",
       "      <th>closed_tokens</th>\n",
       "    </tr>\n",
       "  </thead>\n",
       "  <tbody>\n",
       "    <tr>\n",
       "      <th>0</th>\n",
       "      <td>There is manuscript evidence that Austen conti...</td>\n",
       "      <td>1</td>\n",
       "      <td>[there, is, manuscript, evidence, that, austen...</td>\n",
       "      <td>43</td>\n",
       "      <td>[there, is, manuscript, evidence, that, austen...</td>\n",
       "      <td>[&lt;s&gt;, there, is, manuscript, evidence, that, a...</td>\n",
       "    </tr>\n",
       "    <tr>\n",
       "      <th>1</th>\n",
       "      <td>In a remarkable comparative analysis , Mandaea...</td>\n",
       "      <td>1</td>\n",
       "      <td>[in, a, remarkable, comparative, analysis, ,, ...</td>\n",
       "      <td>23</td>\n",
       "      <td>[in, a, remarkable, comparative, analysis, ,, ...</td>\n",
       "      <td>[&lt;s&gt;, in, a, remarkable, comparative, analysis...</td>\n",
       "    </tr>\n",
       "    <tr>\n",
       "      <th>2</th>\n",
       "      <td>Before Persephone was released to Hermes , who...</td>\n",
       "      <td>1</td>\n",
       "      <td>[before, persephone, was, released, to, hermes...</td>\n",
       "      <td>46</td>\n",
       "      <td>[before, persephone, was, released, to, hermes...</td>\n",
       "      <td>[&lt;s&gt;, before, persephone, was, released, to, h...</td>\n",
       "    </tr>\n",
       "    <tr>\n",
       "      <th>3</th>\n",
       "      <td>Cogeneration plants are commonly found in dist...</td>\n",
       "      <td>1</td>\n",
       "      <td>[cogeneration, plants, are, commonly, found, i...</td>\n",
       "      <td>39</td>\n",
       "      <td>[&lt;unk&gt;, plants, are, commonly, found, in, dist...</td>\n",
       "      <td>[&lt;s&gt;, &lt;unk&gt;, plants, are, commonly, found, in,...</td>\n",
       "    </tr>\n",
       "    <tr>\n",
       "      <th>4</th>\n",
       "      <td>Geneva -LRB- , ; , ; , ; ; -RRB- is the second...</td>\n",
       "      <td>1</td>\n",
       "      <td>[geneva, -lrb-, ,, ;, ,, ;, ,, ;, ;, -rrb-, is...</td>\n",
       "      <td>36</td>\n",
       "      <td>[geneva, -lrb-, ,, ;, ,, ;, ,, ;, ;, -rrb-, is...</td>\n",
       "      <td>[&lt;s&gt;, geneva, -lrb-, ,, ;, ,, ;, ,, ;, ;, -rrb...</td>\n",
       "    </tr>\n",
       "  </tbody>\n",
       "</table>\n",
       "</div>"
      ],
      "text/plain": [
       "                                       original_text  label  \\\n",
       "0  There is manuscript evidence that Austen conti...      1   \n",
       "1  In a remarkable comparative analysis , Mandaea...      1   \n",
       "2  Before Persephone was released to Hermes , who...      1   \n",
       "3  Cogeneration plants are commonly found in dist...      1   \n",
       "4  Geneva -LRB- , ; , ; , ; ; -RRB- is the second...      1   \n",
       "\n",
       "                                              tokens  sentence_length  \\\n",
       "0  [there, is, manuscript, evidence, that, austen...               43   \n",
       "1  [in, a, remarkable, comparative, analysis, ,, ...               23   \n",
       "2  [before, persephone, was, released, to, hermes...               46   \n",
       "3  [cogeneration, plants, are, commonly, found, i...               39   \n",
       "4  [geneva, -lrb-, ,, ;, ,, ;, ,, ;, ;, -rrb-, is...               36   \n",
       "\n",
       "                                      closed_tokens_  \\\n",
       "0  [there, is, manuscript, evidence, that, austen...   \n",
       "1  [in, a, remarkable, comparative, analysis, ,, ...   \n",
       "2  [before, persephone, was, released, to, hermes...   \n",
       "3  [<unk>, plants, are, commonly, found, in, dist...   \n",
       "4  [geneva, -lrb-, ,, ;, ,, ;, ,, ;, ;, -rrb-, is...   \n",
       "\n",
       "                                       closed_tokens  \n",
       "0  [<s>, there, is, manuscript, evidence, that, a...  \n",
       "1  [<s>, in, a, remarkable, comparative, analysis...  \n",
       "2  [<s>, before, persephone, was, released, to, h...  \n",
       "3  [<s>, <unk>, plants, are, commonly, found, in,...  \n",
       "4  [<s>, geneva, -lrb-, ,, ;, ,, ;, ,, ;, ;, -rrb...  "
      ]
     },
     "execution_count": 13,
     "metadata": {},
     "output_type": "execute_result"
    }
   ],
   "source": [
    "main_df.head()"
   ]
  },
  {
   "cell_type": "markdown",
   "id": "22ea1794",
   "metadata": {},
   "source": [
    "### Produce Bigrams"
   ]
  },
  {
   "cell_type": "code",
   "execution_count": 34,
   "id": "a2a995e7",
   "metadata": {},
   "outputs": [],
   "source": [
    "def produce_bigrams(token_list, bigram_dict):\n",
    "    sentence_tuple = tuple(token_list)\n",
    "\n",
    "    for i in range(len(sentence_tuple) - 1):\n",
    "        bigram = sentence_tuple[i:i + 2]\n",
    "        bigram_dict[bigram] += 1\n",
    "    return bigram_dict"
   ]
  },
  {
   "cell_type": "code",
   "execution_count": null,
   "id": "5acd5f81",
   "metadata": {},
   "outputs": [],
   "source": []
  },
  {
   "cell_type": "markdown",
   "id": "9d13af85",
   "metadata": {},
   "source": [
    "## Model 2: Bigram model Probability models for each distribution "
   ]
  },
  {
   "cell_type": "code",
   "execution_count": null,
   "id": "16a5fa06",
   "metadata": {},
   "outputs": [],
   "source": []
  },
  {
   "cell_type": "code",
   "execution_count": 15,
   "id": "229771e8",
   "metadata": {},
   "outputs": [
    {
     "name": "stdout",
     "output_type": "stream",
     "text": [
      "CPU times: user 68.2 ms, sys: 9.97 ms, total: 78.2 ms\n",
      "Wall time: 75.6 ms\n"
     ]
    },
    {
     "data": {
      "text/plain": [
       "(208384, 6)"
      ]
     },
     "execution_count": 15,
     "metadata": {},
     "output_type": "execute_result"
    }
   ],
   "source": [
    "%%time\n",
    "# sentences that DO NOT need to be simplified; label = 0\n",
    "good_df = main_df[ main_df['label'] == 0]\n",
    "good_df.shape"
   ]
  },
  {
   "cell_type": "code",
   "execution_count": 16,
   "id": "bef5cfc7",
   "metadata": {},
   "outputs": [
    {
     "data": {
      "text/plain": [
       "(208384, 6)"
      ]
     },
     "execution_count": 16,
     "metadata": {},
     "output_type": "execute_result"
    }
   ],
   "source": [
    "# sentences that need to be simplified; label = 1\n",
    "need_simp_ones_df = main_df[ main_df['label'] == 1]\n",
    "need_simp_ones_df.shape"
   ]
  },
  {
   "cell_type": "markdown",
   "id": "51228831",
   "metadata": {},
   "source": [
    "### Class 0: No Simplification needed\n",
    "Word distribution and probability from the class of sentences that do not need simplification"
   ]
  },
  {
   "cell_type": "code",
   "execution_count": null,
   "id": "0da2cbad",
   "metadata": {},
   "outputs": [],
   "source": []
  },
  {
   "cell_type": "code",
   "execution_count": 17,
   "id": "0d3486fa",
   "metadata": {},
   "outputs": [
    {
     "name": "stdout",
     "output_type": "stream",
     "text": [
      "CPU times: user 396 ms, sys: 3.32 ms, total: 399 ms\n",
      "Wall time: 400 ms\n"
     ]
    },
    {
     "data": {
      "text/plain": [
       "208384    {'<s>': 208384, 'there': 4965, 'is': 78927, 's...\n",
       "208385    {'<s>': 208384, 'there': 4965, 'is': 78927, 's...\n",
       "208386    {'<s>': 208384, 'there': 4965, 'is': 78927, 's...\n",
       "208387    {'<s>': 208384, 'there': 4965, 'is': 78927, 's...\n",
       "208388    {'<s>': 208384, 'there': 4965, 'is': 78927, 's...\n",
       "                                ...                        \n",
       "416763    {'<s>': 208384, 'there': 4965, 'is': 78927, 's...\n",
       "416764    {'<s>': 208384, 'there': 4965, 'is': 78927, 's...\n",
       "416765    {'<s>': 208384, 'there': 4965, 'is': 78927, 's...\n",
       "416766    {'<s>': 208384, 'there': 4965, 'is': 78927, 's...\n",
       "416767    {'<s>': 208384, 'there': 4965, 'is': 78927, 's...\n",
       "Name: closed_tokens, Length: 208384, dtype: object"
      ]
     },
     "execution_count": 17,
     "metadata": {},
     "output_type": "execute_result"
    }
   ],
   "source": [
    "%%time\n",
    "# class zero are the terms in the sentences that do not need simplification\n",
    "\n",
    "# number of times each term appears in Class 0\n",
    "class_zero_unigram_count = defaultdict(int)\n",
    "good_df['closed_tokens'].apply(lambda x: build_counts(x, class_zero_unigram_count))"
   ]
  },
  {
   "cell_type": "code",
   "execution_count": 18,
   "id": "1d023d80",
   "metadata": {},
   "outputs": [
    {
     "data": {
      "text/plain": [
       "30829"
      ]
     },
     "execution_count": 18,
     "metadata": {},
     "output_type": "execute_result"
    }
   ],
   "source": [
    "len(class_zero_unigram_count)"
   ]
  },
  {
   "cell_type": "code",
   "execution_count": 19,
   "id": "fa6bab2e",
   "metadata": {},
   "outputs": [
    {
     "data": {
      "text/plain": [
       "4274639"
      ]
     },
     "execution_count": 19,
     "metadata": {},
     "output_type": "execute_result"
    }
   ],
   "source": [
    "# total number of terms in Class 0\n",
    "class_0_total_unigrams = sum(class_zero_unigram_count.values())\n",
    "class_0_total_unigrams"
   ]
  },
  {
   "cell_type": "code",
   "execution_count": 20,
   "id": "f8668097",
   "metadata": {},
   "outputs": [],
   "source": [
    "no_simp_bigram_dict = defaultdict(int)"
   ]
  },
  {
   "cell_type": "code",
   "execution_count": 21,
   "id": "b3232411",
   "metadata": {},
   "outputs": [
    {
     "name": "stdout",
     "output_type": "stream",
     "text": [
      "CPU times: user 1.54 s, sys: 16.7 ms, total: 1.56 s\n",
      "Wall time: 1.56 s\n"
     ]
    },
    {
     "data": {
      "text/plain": [
       "208384    {('<s>', 'there'): 1929, ('there', 'is'): 968,...\n",
       "208385    {('<s>', 'there'): 1929, ('there', 'is'): 968,...\n",
       "208386    {('<s>', 'there'): 1929, ('there', 'is'): 968,...\n",
       "208387    {('<s>', 'there'): 1929, ('there', 'is'): 968,...\n",
       "208388    {('<s>', 'there'): 1929, ('there', 'is'): 968,...\n",
       "                                ...                        \n",
       "416763    {('<s>', 'there'): 1929, ('there', 'is'): 968,...\n",
       "416764    {('<s>', 'there'): 1929, ('there', 'is'): 968,...\n",
       "416765    {('<s>', 'there'): 1929, ('there', 'is'): 968,...\n",
       "416766    {('<s>', 'there'): 1929, ('there', 'is'): 968,...\n",
       "416767    {('<s>', 'there'): 1929, ('there', 'is'): 968,...\n",
       "Name: closed_tokens, Length: 208384, dtype: object"
      ]
     },
     "execution_count": 21,
     "metadata": {},
     "output_type": "execute_result"
    }
   ],
   "source": [
    "%%time\n",
    "good_df['closed_tokens'].apply(lambda x:produce_bigrams(x, no_simp_bigram_dict) )"
   ]
  },
  {
   "cell_type": "markdown",
   "id": "e1a2b333",
   "metadata": {},
   "source": [
    "### Class 1: Needs Simplification"
   ]
  },
  {
   "cell_type": "code",
   "execution_count": 22,
   "id": "8f800475",
   "metadata": {},
   "outputs": [
    {
     "name": "stdout",
     "output_type": "stream",
     "text": [
      "CPU times: user 517 ms, sys: 10 µs, total: 517 ms\n",
      "Wall time: 516 ms\n"
     ]
    },
    {
     "data": {
      "text/plain": [
       "0         {'<s>': 208384, 'there': 3774, 'is': 85074, 'm...\n",
       "1         {'<s>': 208384, 'there': 3774, 'is': 85074, 'm...\n",
       "2         {'<s>': 208384, 'there': 3774, 'is': 85074, 'm...\n",
       "3         {'<s>': 208384, 'there': 3774, 'is': 85074, 'm...\n",
       "4         {'<s>': 208384, 'there': 3774, 'is': 85074, 'm...\n",
       "                                ...                        \n",
       "208379    {'<s>': 208384, 'there': 3774, 'is': 85074, 'm...\n",
       "208380    {'<s>': 208384, 'there': 3774, 'is': 85074, 'm...\n",
       "208381    {'<s>': 208384, 'there': 3774, 'is': 85074, 'm...\n",
       "208382    {'<s>': 208384, 'there': 3774, 'is': 85074, 'm...\n",
       "208383    {'<s>': 208384, 'there': 3774, 'is': 85074, 'm...\n",
       "Name: closed_tokens, Length: 208384, dtype: object"
      ]
     },
     "execution_count": 22,
     "metadata": {},
     "output_type": "execute_result"
    }
   ],
   "source": [
    "%%time\n",
    "# class 1 are the term frequency for the sentences that do need simplification\n",
    "\n",
    "# number of times each term appears in Class 1 -- unigrams\n",
    "\n",
    "class_one_unigram_count = defaultdict(int)\n",
    "need_simp_ones_df['closed_tokens'].apply(lambda x: build_counts(x, class_one_unigram_count))"
   ]
  },
  {
   "cell_type": "code",
   "execution_count": 23,
   "id": "54ea5a85",
   "metadata": {},
   "outputs": [
    {
     "data": {
      "text/plain": [
       "30892"
      ]
     },
     "execution_count": 23,
     "metadata": {},
     "output_type": "execute_result"
    }
   ],
   "source": [
    "len(class_one_unigram_count)"
   ]
  },
  {
   "cell_type": "code",
   "execution_count": 24,
   "id": "0b7b432c",
   "metadata": {},
   "outputs": [
    {
     "data": {
      "text/plain": [
       "5666317"
      ]
     },
     "execution_count": 24,
     "metadata": {},
     "output_type": "execute_result"
    }
   ],
   "source": [
    "# total number of terms in Class 1\n",
    "class_1_total_unigrams = sum(class_one_unigram_count.values())\n",
    "class_1_total_unigrams"
   ]
  },
  {
   "cell_type": "code",
   "execution_count": 25,
   "id": "83db103c",
   "metadata": {},
   "outputs": [],
   "source": [
    "# bigrams in the require simplification class \n",
    "simp_bigram_dict = defaultdict(int)"
   ]
  },
  {
   "cell_type": "code",
   "execution_count": 26,
   "id": "df84e582",
   "metadata": {},
   "outputs": [
    {
     "name": "stdout",
     "output_type": "stream",
     "text": [
      "CPU times: user 2.09 s, sys: 16.6 ms, total: 2.1 s\n",
      "Wall time: 2.1 s\n"
     ]
    },
    {
     "data": {
      "text/plain": [
       "0         {('<s>', 'there'): 1323, ('there', 'is'): 859,...\n",
       "1         {('<s>', 'there'): 1323, ('there', 'is'): 859,...\n",
       "2         {('<s>', 'there'): 1323, ('there', 'is'): 859,...\n",
       "3         {('<s>', 'there'): 1323, ('there', 'is'): 859,...\n",
       "4         {('<s>', 'there'): 1323, ('there', 'is'): 859,...\n",
       "                                ...                        \n",
       "208379    {('<s>', 'there'): 1323, ('there', 'is'): 859,...\n",
       "208380    {('<s>', 'there'): 1323, ('there', 'is'): 859,...\n",
       "208381    {('<s>', 'there'): 1323, ('there', 'is'): 859,...\n",
       "208382    {('<s>', 'there'): 1323, ('there', 'is'): 859,...\n",
       "208383    {('<s>', 'there'): 1323, ('there', 'is'): 859,...\n",
       "Name: closed_tokens, Length: 208384, dtype: object"
      ]
     },
     "execution_count": 26,
     "metadata": {},
     "output_type": "execute_result"
    }
   ],
   "source": [
    "%%time\n",
    "need_simp_ones_df['closed_tokens'].apply(lambda x: produce_bigrams(x, simp_bigram_dict))"
   ]
  },
  {
   "cell_type": "markdown",
   "id": "22bc693a",
   "metadata": {},
   "source": [
    "## Sentence Bigram probability model"
   ]
  },
  {
   "cell_type": "code",
   "execution_count": 27,
   "id": "8e2f1850",
   "metadata": {},
   "outputs": [],
   "source": [
    "def word_probability(word, prior_word, distribution_unigrams, distribution_bigrams):\n",
    "    # the probability of a given word in the class distribution\n",
    "    vocabulary_length = len(distribution_unigrams)\n",
    "    prior_bigram = (word, prior_word)\n",
    "    word_bigram = distribution_bigrams[prior_bigram]\n",
    "    word_count = distribution_unigrams[prior_word]\n",
    "    P_word = (word_bigram + 1)/(word_count + vocabulary_length)\n",
    "    return np.log(P_word)"
   ]
  },
  {
   "cell_type": "code",
   "execution_count": 28,
   "id": "f319e579",
   "metadata": {},
   "outputs": [],
   "source": [
    "def sentence_probability(closed_token_list, distribution_unigrams, distribution_bigrams):\n",
    "    sent_prob = 0\n",
    "    for i in range(1, len(closed_token_list)):\n",
    "        sent_prob += word_probability(closed_token_list[i], closed_token_list[i-1], distribution_unigrams, distribution_bigrams)\n",
    "\n",
    "    return sent_prob"
   ]
  },
  {
   "cell_type": "code",
   "execution_count": 29,
   "id": "4deb168e",
   "metadata": {},
   "outputs": [],
   "source": [
    "def classify_sentences(closed_token_list, class_zero_unigram_count, class_one_unigram_count, no_simp_bigram_dict, simp_bigram_dict):\n",
    "    class_0_prob = sentence_probability(closed_token_list,class_zero_unigram_count, no_simp_bigram_dict)\n",
    "    class_1_prob = sentence_probability(closed_token_list,class_one_unigram_count, simp_bigram_dict)\n",
    "\n",
    "    if class_0_prob > class_1_prob:\n",
    "        return 0\n",
    "    else:\n",
    "        return 1"
   ]
  },
  {
   "cell_type": "code",
   "execution_count": 30,
   "id": "691a973b",
   "metadata": {},
   "outputs": [
    {
     "name": "stdout",
     "output_type": "stream",
     "text": [
      "CPU times: user 23.5 s, sys: 52.6 ms, total: 23.6 s\n",
      "Wall time: 23.7 s\n"
     ]
    }
   ],
   "source": [
    "%%time\n",
    "main_df['predict'] = main_df['closed_tokens'].apply(lambda x:classify_sentences(x, class_zero_unigram_count, class_one_unigram_count, no_simp_bigram_dict, simp_bigram_dict) )"
   ]
  },
  {
   "cell_type": "code",
   "execution_count": 31,
   "id": "8a3ae0cb",
   "metadata": {},
   "outputs": [
    {
     "data": {
      "text/html": [
       "<div>\n",
       "<style scoped>\n",
       "    .dataframe tbody tr th:only-of-type {\n",
       "        vertical-align: middle;\n",
       "    }\n",
       "\n",
       "    .dataframe tbody tr th {\n",
       "        vertical-align: top;\n",
       "    }\n",
       "\n",
       "    .dataframe thead th {\n",
       "        text-align: right;\n",
       "    }\n",
       "</style>\n",
       "<table border=\"1\" class=\"dataframe\">\n",
       "  <thead>\n",
       "    <tr style=\"text-align: right;\">\n",
       "      <th></th>\n",
       "      <th>original_text</th>\n",
       "      <th>label</th>\n",
       "      <th>tokens</th>\n",
       "      <th>sentence_length</th>\n",
       "      <th>closed_tokens_</th>\n",
       "      <th>closed_tokens</th>\n",
       "      <th>predict</th>\n",
       "    </tr>\n",
       "  </thead>\n",
       "  <tbody>\n",
       "    <tr>\n",
       "      <th>0</th>\n",
       "      <td>There is manuscript evidence that Austen conti...</td>\n",
       "      <td>1</td>\n",
       "      <td>[there, is, manuscript, evidence, that, austen...</td>\n",
       "      <td>43</td>\n",
       "      <td>[there, is, manuscript, evidence, that, austen...</td>\n",
       "      <td>[&lt;s&gt;, there, is, manuscript, evidence, that, a...</td>\n",
       "      <td>1</td>\n",
       "    </tr>\n",
       "    <tr>\n",
       "      <th>1</th>\n",
       "      <td>In a remarkable comparative analysis , Mandaea...</td>\n",
       "      <td>1</td>\n",
       "      <td>[in, a, remarkable, comparative, analysis, ,, ...</td>\n",
       "      <td>23</td>\n",
       "      <td>[in, a, remarkable, comparative, analysis, ,, ...</td>\n",
       "      <td>[&lt;s&gt;, in, a, remarkable, comparative, analysis...</td>\n",
       "      <td>1</td>\n",
       "    </tr>\n",
       "    <tr>\n",
       "      <th>2</th>\n",
       "      <td>Before Persephone was released to Hermes , who...</td>\n",
       "      <td>1</td>\n",
       "      <td>[before, persephone, was, released, to, hermes...</td>\n",
       "      <td>46</td>\n",
       "      <td>[before, persephone, was, released, to, hermes...</td>\n",
       "      <td>[&lt;s&gt;, before, persephone, was, released, to, h...</td>\n",
       "      <td>1</td>\n",
       "    </tr>\n",
       "    <tr>\n",
       "      <th>3</th>\n",
       "      <td>Cogeneration plants are commonly found in dist...</td>\n",
       "      <td>1</td>\n",
       "      <td>[cogeneration, plants, are, commonly, found, i...</td>\n",
       "      <td>39</td>\n",
       "      <td>[&lt;unk&gt;, plants, are, commonly, found, in, dist...</td>\n",
       "      <td>[&lt;s&gt;, &lt;unk&gt;, plants, are, commonly, found, in,...</td>\n",
       "      <td>1</td>\n",
       "    </tr>\n",
       "    <tr>\n",
       "      <th>4</th>\n",
       "      <td>Geneva -LRB- , ; , ; , ; ; -RRB- is the second...</td>\n",
       "      <td>1</td>\n",
       "      <td>[geneva, -lrb-, ,, ;, ,, ;, ,, ;, ;, -rrb-, is...</td>\n",
       "      <td>36</td>\n",
       "      <td>[geneva, -lrb-, ,, ;, ,, ;, ,, ;, ;, -rrb-, is...</td>\n",
       "      <td>[&lt;s&gt;, geneva, -lrb-, ,, ;, ,, ;, ,, ;, ;, -rrb...</td>\n",
       "      <td>1</td>\n",
       "    </tr>\n",
       "  </tbody>\n",
       "</table>\n",
       "</div>"
      ],
      "text/plain": [
       "                                       original_text  label  \\\n",
       "0  There is manuscript evidence that Austen conti...      1   \n",
       "1  In a remarkable comparative analysis , Mandaea...      1   \n",
       "2  Before Persephone was released to Hermes , who...      1   \n",
       "3  Cogeneration plants are commonly found in dist...      1   \n",
       "4  Geneva -LRB- , ; , ; , ; ; -RRB- is the second...      1   \n",
       "\n",
       "                                              tokens  sentence_length  \\\n",
       "0  [there, is, manuscript, evidence, that, austen...               43   \n",
       "1  [in, a, remarkable, comparative, analysis, ,, ...               23   \n",
       "2  [before, persephone, was, released, to, hermes...               46   \n",
       "3  [cogeneration, plants, are, commonly, found, i...               39   \n",
       "4  [geneva, -lrb-, ,, ;, ,, ;, ,, ;, ;, -rrb-, is...               36   \n",
       "\n",
       "                                      closed_tokens_  \\\n",
       "0  [there, is, manuscript, evidence, that, austen...   \n",
       "1  [in, a, remarkable, comparative, analysis, ,, ...   \n",
       "2  [before, persephone, was, released, to, hermes...   \n",
       "3  [<unk>, plants, are, commonly, found, in, dist...   \n",
       "4  [geneva, -lrb-, ,, ;, ,, ;, ,, ;, ;, -rrb-, is...   \n",
       "\n",
       "                                       closed_tokens  predict  \n",
       "0  [<s>, there, is, manuscript, evidence, that, a...        1  \n",
       "1  [<s>, in, a, remarkable, comparative, analysis...        1  \n",
       "2  [<s>, before, persephone, was, released, to, h...        1  \n",
       "3  [<s>, <unk>, plants, are, commonly, found, in,...        1  \n",
       "4  [<s>, geneva, -lrb-, ,, ;, ,, ;, ,, ;, ;, -rrb...        1  "
      ]
     },
     "execution_count": 31,
     "metadata": {},
     "output_type": "execute_result"
    }
   ],
   "source": [
    "main_df.head()"
   ]
  },
  {
   "cell_type": "code",
   "execution_count": 32,
   "id": "758ff58b",
   "metadata": {},
   "outputs": [
    {
     "data": {
      "text/plain": [
       "0.5469085918304668"
      ]
     },
     "execution_count": 32,
     "metadata": {},
     "output_type": "execute_result"
    }
   ],
   "source": [
    "accuracy_score(main_df['label'], main_df['predict'])"
   ]
  },
  {
   "cell_type": "code",
   "execution_count": 33,
   "id": "76c1021e",
   "metadata": {},
   "outputs": [],
   "source": [
    "# threshold 13 = 0.5469085918304668\n",
    "#  threshold 11 = 0.5472181165540541\n",
    "# threshold 5 = 0.5422777180589681\n"
   ]
  },
  {
   "cell_type": "code",
   "execution_count": null,
   "id": "996f15ac",
   "metadata": {},
   "outputs": [],
   "source": []
  }
 ],
 "metadata": {
  "kernelspec": {
   "display_name": "Python 3",
   "language": "python",
   "name": "python3"
  },
  "language_info": {
   "codemirror_mode": {
    "name": "ipython",
    "version": 3
   },
   "file_extension": ".py",
   "mimetype": "text/x-python",
   "name": "python",
   "nbconvert_exporter": "python",
   "pygments_lexer": "ipython3",
   "version": "3.8.8"
  }
 },
 "nbformat": 4,
 "nbformat_minor": 5
}
