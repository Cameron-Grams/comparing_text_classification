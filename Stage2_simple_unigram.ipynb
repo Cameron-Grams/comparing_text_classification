{
 "cells": [
  {
   "cell_type": "markdown",
   "id": "05027e48",
   "metadata": {},
   "source": [
    "# Stage One\n",
    "1. __Model 1:__ Unigram probability from single training corpus"
   ]
  },
  {
   "cell_type": "code",
   "execution_count": 1,
   "id": "3c9f567b",
   "metadata": {},
   "outputs": [],
   "source": [
    "import numpy as np\n",
    "import pandas as pd\n",
    "import matplotlib.pyplot as plt\n",
    "\n",
    "from collections import defaultdict\n",
    "from nltk.tokenize import word_tokenize\n",
    "import textstat\n",
    "from sklearn.metrics import accuracy_score"
   ]
  },
  {
   "cell_type": "code",
   "execution_count": 2,
   "id": "f026775f",
   "metadata": {},
   "outputs": [],
   "source": [
    "import utilities as ut"
   ]
  },
  {
   "cell_type": "code",
   "execution_count": 3,
   "id": "724a358e",
   "metadata": {},
   "outputs": [],
   "source": [
    "training_path = './data/WikiLarge_Train.csv'"
   ]
  },
  {
   "cell_type": "code",
   "execution_count": 4,
   "id": "2811595c",
   "metadata": {},
   "outputs": [
    {
     "name": "stdout",
     "output_type": "stream",
     "text": [
      "CPU times: user 55.3 s, sys: 396 ms, total: 55.7 s\n",
      "Wall time: 55.8 s\n"
     ]
    }
   ],
   "source": [
    "%%time\n",
    "main_df = ut.produce_dataframe(training_path)"
   ]
  },
  {
   "cell_type": "code",
   "execution_count": 5,
   "id": "ef18f087",
   "metadata": {},
   "outputs": [
    {
     "data": {
      "text/plain": [
       "(416768, 4)"
      ]
     },
     "execution_count": 5,
     "metadata": {},
     "output_type": "execute_result"
    }
   ],
   "source": [
    "main_df.shape"
   ]
  },
  {
   "cell_type": "code",
   "execution_count": 6,
   "id": "9d761ba7",
   "metadata": {},
   "outputs": [
    {
     "data": {
      "text/html": [
       "<div>\n",
       "<style scoped>\n",
       "    .dataframe tbody tr th:only-of-type {\n",
       "        vertical-align: middle;\n",
       "    }\n",
       "\n",
       "    .dataframe tbody tr th {\n",
       "        vertical-align: top;\n",
       "    }\n",
       "\n",
       "    .dataframe thead th {\n",
       "        text-align: right;\n",
       "    }\n",
       "</style>\n",
       "<table border=\"1\" class=\"dataframe\">\n",
       "  <thead>\n",
       "    <tr style=\"text-align: right;\">\n",
       "      <th></th>\n",
       "      <th>original_text</th>\n",
       "      <th>label</th>\n",
       "      <th>tokens</th>\n",
       "      <th>sentence_length</th>\n",
       "    </tr>\n",
       "  </thead>\n",
       "  <tbody>\n",
       "    <tr>\n",
       "      <th>0</th>\n",
       "      <td>There is manuscript evidence that Austen conti...</td>\n",
       "      <td>1</td>\n",
       "      <td>[there, is, manuscript, evidence, that, austen...</td>\n",
       "      <td>43</td>\n",
       "    </tr>\n",
       "    <tr>\n",
       "      <th>1</th>\n",
       "      <td>In a remarkable comparative analysis , Mandaea...</td>\n",
       "      <td>1</td>\n",
       "      <td>[in, a, remarkable, comparative, analysis, ,, ...</td>\n",
       "      <td>23</td>\n",
       "    </tr>\n",
       "    <tr>\n",
       "      <th>2</th>\n",
       "      <td>Before Persephone was released to Hermes , who...</td>\n",
       "      <td>1</td>\n",
       "      <td>[before, persephone, was, released, to, hermes...</td>\n",
       "      <td>46</td>\n",
       "    </tr>\n",
       "    <tr>\n",
       "      <th>3</th>\n",
       "      <td>Cogeneration plants are commonly found in dist...</td>\n",
       "      <td>1</td>\n",
       "      <td>[cogeneration, plants, are, commonly, found, i...</td>\n",
       "      <td>39</td>\n",
       "    </tr>\n",
       "    <tr>\n",
       "      <th>4</th>\n",
       "      <td>Geneva -LRB- , ; , ; , ; ; -RRB- is the second...</td>\n",
       "      <td>1</td>\n",
       "      <td>[geneva, -lrb-, ,, ;, ,, ;, ,, ;, ;, -rrb-, is...</td>\n",
       "      <td>36</td>\n",
       "    </tr>\n",
       "  </tbody>\n",
       "</table>\n",
       "</div>"
      ],
      "text/plain": [
       "                                       original_text  label  \\\n",
       "0  There is manuscript evidence that Austen conti...      1   \n",
       "1  In a remarkable comparative analysis , Mandaea...      1   \n",
       "2  Before Persephone was released to Hermes , who...      1   \n",
       "3  Cogeneration plants are commonly found in dist...      1   \n",
       "4  Geneva -LRB- , ; , ; , ; ; -RRB- is the second...      1   \n",
       "\n",
       "                                              tokens  sentence_length  \n",
       "0  [there, is, manuscript, evidence, that, austen...               43  \n",
       "1  [in, a, remarkable, comparative, analysis, ,, ...               23  \n",
       "2  [before, persephone, was, released, to, hermes...               46  \n",
       "3  [cogeneration, plants, are, commonly, found, i...               39  \n",
       "4  [geneva, -lrb-, ,, ;, ,, ;, ,, ;, ;, -rrb-, is...               36  "
      ]
     },
     "execution_count": 6,
     "metadata": {},
     "output_type": "execute_result"
    }
   ],
   "source": [
    "main_df.head()"
   ]
  },
  {
   "cell_type": "code",
   "execution_count": 7,
   "id": "83f3305f",
   "metadata": {},
   "outputs": [
    {
     "name": "stdout",
     "output_type": "stream",
     "text": [
      "CPU times: user 17.2 ms, sys: 35 µs, total: 17.2 ms\n",
      "Wall time: 19 ms\n"
     ]
    },
    {
     "data": {
      "text/plain": [
       "(208384, 4)"
      ]
     },
     "execution_count": 7,
     "metadata": {},
     "output_type": "execute_result"
    }
   ],
   "source": [
    "%%time\n",
    "# sentences that DO NOT need to be simplified; label = 0\n",
    "good_df = main_df[ main_df['label'] == 0]\n",
    "good_df.shape"
   ]
  },
  {
   "cell_type": "code",
   "execution_count": 8,
   "id": "60b354a1",
   "metadata": {},
   "outputs": [
    {
     "data": {
      "text/plain": [
       "(208384, 4)"
      ]
     },
     "execution_count": 8,
     "metadata": {},
     "output_type": "execute_result"
    }
   ],
   "source": [
    "# sentences that need to be simplified; label = 1\n",
    "need_simp_ones_df = main_df[ main_df['label'] == 1]\n",
    "need_simp_ones_df.shape"
   ]
  },
  {
   "cell_type": "markdown",
   "id": "7823e79f",
   "metadata": {},
   "source": [
    "## Model 1: Simple Unigram model"
   ]
  },
  {
   "cell_type": "code",
   "execution_count": 9,
   "id": "908e78db",
   "metadata": {},
   "outputs": [],
   "source": [
    "# assumptions: stop words left in, distribution will contribute to the need for simplification"
   ]
  },
  {
   "cell_type": "code",
   "execution_count": 10,
   "id": "796db836",
   "metadata": {},
   "outputs": [],
   "source": [
    "def build_counts(token_list, d_dict):\n",
    "    for token in token_list:\n",
    "         d_dict[token] += 1\n",
    "    return d_dict"
   ]
  },
  {
   "cell_type": "markdown",
   "id": "0544b4c7",
   "metadata": {},
   "source": [
    "### Class 0: No Simplification needed\n",
    "Word distribution and probability from the class of sentences that do not need simplification"
   ]
  },
  {
   "cell_type": "code",
   "execution_count": 11,
   "id": "b85d9065",
   "metadata": {},
   "outputs": [
    {
     "name": "stdout",
     "output_type": "stream",
     "text": [
      "CPU times: user 494 ms, sys: 3.3 ms, total: 497 ms\n",
      "Wall time: 496 ms\n"
     ]
    },
    {
     "data": {
      "text/plain": [
       "208384    {'there': 4965, 'is': 78927, 'some': 3981, 'pr...\n",
       "208385    {'there': 4965, 'is': 78927, 'some': 3981, 'pr...\n",
       "208386    {'there': 4965, 'is': 78927, 'some': 3981, 'pr...\n",
       "208387    {'there': 4965, 'is': 78927, 'some': 3981, 'pr...\n",
       "208388    {'there': 4965, 'is': 78927, 'some': 3981, 'pr...\n",
       "                                ...                        \n",
       "416763    {'there': 4965, 'is': 78927, 'some': 3981, 'pr...\n",
       "416764    {'there': 4965, 'is': 78927, 'some': 3981, 'pr...\n",
       "416765    {'there': 4965, 'is': 78927, 'some': 3981, 'pr...\n",
       "416766    {'there': 4965, 'is': 78927, 'some': 3981, 'pr...\n",
       "416767    {'there': 4965, 'is': 78927, 'some': 3981, 'pr...\n",
       "Name: tokens, Length: 208384, dtype: object"
      ]
     },
     "execution_count": 11,
     "metadata": {},
     "output_type": "execute_result"
    }
   ],
   "source": [
    "%%time\n",
    "# class zero are the terms in the sentences that do not need simplification\n",
    "\n",
    "# number of times each term appears in Class 0\n",
    "class_zero_count = defaultdict(int)\n",
    "good_df['tokens'].apply(lambda x: build_counts(x, class_zero_count))"
   ]
  },
  {
   "cell_type": "code",
   "execution_count": 12,
   "id": "cae00421",
   "metadata": {},
   "outputs": [
    {
     "data": {
      "text/plain": [
       "127093"
      ]
     },
     "execution_count": 12,
     "metadata": {},
     "output_type": "execute_result"
    }
   ],
   "source": [
    "len(class_zero_count)"
   ]
  },
  {
   "cell_type": "code",
   "execution_count": 13,
   "id": "967762dc",
   "metadata": {},
   "outputs": [
    {
     "data": {
      "text/plain": [
       "3857871"
      ]
     },
     "execution_count": 13,
     "metadata": {},
     "output_type": "execute_result"
    }
   ],
   "source": [
    "# total number of terms in Class 0\n",
    "class_0_total_terms = sum(class_zero_count.values())\n",
    "class_0_total_terms"
   ]
  },
  {
   "cell_type": "code",
   "execution_count": 14,
   "id": "aad7c71d",
   "metadata": {},
   "outputs": [
    {
     "name": "stdout",
     "output_type": "stream",
     "text": [
      "CPU times: user 75.2 ms, sys: 3.35 ms, total: 78.5 ms\n",
      "Wall time: 78.3 ms\n"
     ]
    }
   ],
   "source": [
    "%%time\n",
    "# log probability of terms in Class 0\n",
    "class_0_log_prob_terms = {k:np.log(v/class_0_total_terms) for k, v in class_zero_count.items()}"
   ]
  },
  {
   "cell_type": "code",
   "execution_count": 15,
   "id": "73c9d4a2",
   "metadata": {},
   "outputs": [],
   "source": [
    "# class_0_log_prob_terms"
   ]
  },
  {
   "cell_type": "markdown",
   "id": "6b625472",
   "metadata": {},
   "source": [
    "### Class 1: Needs Simplification"
   ]
  },
  {
   "cell_type": "code",
   "execution_count": 16,
   "id": "a51ee86d",
   "metadata": {},
   "outputs": [
    {
     "name": "stdout",
     "output_type": "stream",
     "text": [
      "CPU times: user 612 ms, sys: 6.65 ms, total: 618 ms\n",
      "Wall time: 619 ms\n"
     ]
    },
    {
     "data": {
      "text/plain": [
       "0         {'there': 3774, 'is': 85074, 'manuscript': 42,...\n",
       "1         {'there': 3774, 'is': 85074, 'manuscript': 42,...\n",
       "2         {'there': 3774, 'is': 85074, 'manuscript': 42,...\n",
       "3         {'there': 3774, 'is': 85074, 'manuscript': 42,...\n",
       "4         {'there': 3774, 'is': 85074, 'manuscript': 42,...\n",
       "                                ...                        \n",
       "208379    {'there': 3774, 'is': 85074, 'manuscript': 42,...\n",
       "208380    {'there': 3774, 'is': 85074, 'manuscript': 42,...\n",
       "208381    {'there': 3774, 'is': 85074, 'manuscript': 42,...\n",
       "208382    {'there': 3774, 'is': 85074, 'manuscript': 42,...\n",
       "208383    {'there': 3774, 'is': 85074, 'manuscript': 42,...\n",
       "Name: tokens, Length: 208384, dtype: object"
      ]
     },
     "execution_count": 16,
     "metadata": {},
     "output_type": "execute_result"
    }
   ],
   "source": [
    "%%time\n",
    "# class 1 are the term frequency for the sentences that do need simplification\n",
    "\n",
    "# number of times each term appears in Class 1\n",
    "class_one_count = defaultdict(int)\n",
    "need_simp_ones_df['tokens'].apply(lambda x: build_counts(x, class_one_count))"
   ]
  },
  {
   "cell_type": "code",
   "execution_count": 17,
   "id": "6902145e",
   "metadata": {},
   "outputs": [
    {
     "data": {
      "text/plain": [
       "152583"
      ]
     },
     "execution_count": 17,
     "metadata": {},
     "output_type": "execute_result"
    }
   ],
   "source": [
    "len(class_one_count)"
   ]
  },
  {
   "cell_type": "code",
   "execution_count": 18,
   "id": "8a0283f3",
   "metadata": {},
   "outputs": [
    {
     "data": {
      "text/plain": [
       "5249549"
      ]
     },
     "execution_count": 18,
     "metadata": {},
     "output_type": "execute_result"
    }
   ],
   "source": [
    "# total number of terms in Class 1\n",
    "class_1_total_terms = sum(class_one_count.values())\n",
    "class_1_total_terms"
   ]
  },
  {
   "cell_type": "code",
   "execution_count": 19,
   "id": "09e213d3",
   "metadata": {},
   "outputs": [
    {
     "name": "stdout",
     "output_type": "stream",
     "text": [
      "CPU times: user 91.6 ms, sys: 15 µs, total: 91.6 ms\n",
      "Wall time: 91.3 ms\n"
     ]
    }
   ],
   "source": [
    "%%time\n",
    "# log probability of the terms in the Class 1 distribution\n",
    "class_1_log_prob_terms = {k:np.log(v/class_1_total_terms) for k, v in class_one_count.items()}"
   ]
  },
  {
   "cell_type": "code",
   "execution_count": 20,
   "id": "7f46bab2",
   "metadata": {},
   "outputs": [],
   "source": [
    "# class_1_log_prob_terms"
   ]
  },
  {
   "cell_type": "markdown",
   "id": "0c57dfc3",
   "metadata": {},
   "source": [
    "### Simple Unigram probability model"
   ]
  },
  {
   "cell_type": "code",
   "execution_count": 21,
   "id": "06f06246",
   "metadata": {},
   "outputs": [],
   "source": [
    "def probability_prediction(token_list, c_1p = class_1_log_prob_terms, c_zp = class_0_log_prob_terms):\n",
    "    # predicted class is based on which class has the higher probability for each sentence\n",
    "    # probabilities are negative numbers since they are on the log scale --> higher number = greater probability\n",
    "\n",
    "    # class 0, no need for simplification likelihood:\n",
    "    class_0_prob = 0\n",
    "\n",
    "    # class 1, need simplification likelihood:\n",
    "    class_1_prob = 0\n",
    "  \n",
    "    for token in token_list:\n",
    "        try:\n",
    "            class_0_prob += class_0_log_prob_terms[token]\n",
    "        except:\n",
    "            class_0_prob += 0\n",
    "\n",
    "        try:\n",
    "            class_1_prob += class_1_log_prob_terms[token]\n",
    "        except: \n",
    "            class_1_prob += 0\n",
    "\n",
    "    predicted_class = 1 if class_1_prob > class_0_prob else 0\n",
    "\n",
    "    return predicted_class"
   ]
  },
  {
   "cell_type": "code",
   "execution_count": 22,
   "id": "e8121280",
   "metadata": {},
   "outputs": [
    {
     "name": "stdout",
     "output_type": "stream",
     "text": [
      "CPU times: user 4.76 s, sys: 16.6 ms, total: 4.78 s\n",
      "Wall time: 4.78 s\n"
     ]
    }
   ],
   "source": [
    "%%time\n",
    "main_df['predicted'] = main_df.apply(lambda x: probability_prediction(x['tokens']), axis = 1)"
   ]
  },
  {
   "cell_type": "code",
   "execution_count": 23,
   "id": "1c5ecd66",
   "metadata": {},
   "outputs": [
    {
     "data": {
      "text/html": [
       "<div>\n",
       "<style scoped>\n",
       "    .dataframe tbody tr th:only-of-type {\n",
       "        vertical-align: middle;\n",
       "    }\n",
       "\n",
       "    .dataframe tbody tr th {\n",
       "        vertical-align: top;\n",
       "    }\n",
       "\n",
       "    .dataframe thead th {\n",
       "        text-align: right;\n",
       "    }\n",
       "</style>\n",
       "<table border=\"1\" class=\"dataframe\">\n",
       "  <thead>\n",
       "    <tr style=\"text-align: right;\">\n",
       "      <th></th>\n",
       "      <th>original_text</th>\n",
       "      <th>label</th>\n",
       "      <th>tokens</th>\n",
       "      <th>sentence_length</th>\n",
       "      <th>predicted</th>\n",
       "    </tr>\n",
       "  </thead>\n",
       "  <tbody>\n",
       "    <tr>\n",
       "      <th>0</th>\n",
       "      <td>There is manuscript evidence that Austen conti...</td>\n",
       "      <td>1</td>\n",
       "      <td>[there, is, manuscript, evidence, that, austen...</td>\n",
       "      <td>43</td>\n",
       "      <td>1</td>\n",
       "    </tr>\n",
       "    <tr>\n",
       "      <th>1</th>\n",
       "      <td>In a remarkable comparative analysis , Mandaea...</td>\n",
       "      <td>1</td>\n",
       "      <td>[in, a, remarkable, comparative, analysis, ,, ...</td>\n",
       "      <td>23</td>\n",
       "      <td>1</td>\n",
       "    </tr>\n",
       "    <tr>\n",
       "      <th>2</th>\n",
       "      <td>Before Persephone was released to Hermes , who...</td>\n",
       "      <td>1</td>\n",
       "      <td>[before, persephone, was, released, to, hermes...</td>\n",
       "      <td>46</td>\n",
       "      <td>1</td>\n",
       "    </tr>\n",
       "    <tr>\n",
       "      <th>3</th>\n",
       "      <td>Cogeneration plants are commonly found in dist...</td>\n",
       "      <td>1</td>\n",
       "      <td>[cogeneration, plants, are, commonly, found, i...</td>\n",
       "      <td>39</td>\n",
       "      <td>0</td>\n",
       "    </tr>\n",
       "    <tr>\n",
       "      <th>4</th>\n",
       "      <td>Geneva -LRB- , ; , ; , ; ; -RRB- is the second...</td>\n",
       "      <td>1</td>\n",
       "      <td>[geneva, -lrb-, ,, ;, ,, ;, ,, ;, ;, -rrb-, is...</td>\n",
       "      <td>36</td>\n",
       "      <td>0</td>\n",
       "    </tr>\n",
       "  </tbody>\n",
       "</table>\n",
       "</div>"
      ],
      "text/plain": [
       "                                       original_text  label  \\\n",
       "0  There is manuscript evidence that Austen conti...      1   \n",
       "1  In a remarkable comparative analysis , Mandaea...      1   \n",
       "2  Before Persephone was released to Hermes , who...      1   \n",
       "3  Cogeneration plants are commonly found in dist...      1   \n",
       "4  Geneva -LRB- , ; , ; , ; ; -RRB- is the second...      1   \n",
       "\n",
       "                                              tokens  sentence_length  \\\n",
       "0  [there, is, manuscript, evidence, that, austen...               43   \n",
       "1  [in, a, remarkable, comparative, analysis, ,, ...               23   \n",
       "2  [before, persephone, was, released, to, hermes...               46   \n",
       "3  [cogeneration, plants, are, commonly, found, i...               39   \n",
       "4  [geneva, -lrb-, ,, ;, ,, ;, ,, ;, ;, -rrb-, is...               36   \n",
       "\n",
       "   predicted  \n",
       "0          1  \n",
       "1          1  \n",
       "2          1  \n",
       "3          0  \n",
       "4          0  "
      ]
     },
     "execution_count": 23,
     "metadata": {},
     "output_type": "execute_result"
    }
   ],
   "source": [
    "main_df.head()"
   ]
  },
  {
   "cell_type": "code",
   "execution_count": 24,
   "id": "b570f3cf",
   "metadata": {},
   "outputs": [
    {
     "data": {
      "text/plain": [
       "0.583067797911548"
      ]
     },
     "execution_count": 24,
     "metadata": {},
     "output_type": "execute_result"
    }
   ],
   "source": [
    "accuracy_score(main_df['label'], main_df['predicted'])"
   ]
  },
  {
   "cell_type": "code",
   "execution_count": null,
   "id": "6f74bbfd",
   "metadata": {},
   "outputs": [],
   "source": []
  }
 ],
 "metadata": {
  "kernelspec": {
   "display_name": "Python 3",
   "language": "python",
   "name": "python3"
  },
  "language_info": {
   "codemirror_mode": {
    "name": "ipython",
    "version": 3
   },
   "file_extension": ".py",
   "mimetype": "text/x-python",
   "name": "python",
   "nbconvert_exporter": "python",
   "pygments_lexer": "ipython3",
   "version": "3.8.8"
  }
 },
 "nbformat": 4,
 "nbformat_minor": 5
}
